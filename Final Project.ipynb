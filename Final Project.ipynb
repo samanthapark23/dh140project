{
 "cells": [
  {
   "cell_type": "markdown",
   "id": "95174b1c-fcae-43d8-9ae3-f227c37f6fd8",
   "metadata": {},
   "source": [
    "# \"PROJECT TITLE\""
   ]
  },
  {
   "cell_type": "markdown",
   "id": "d7ed1214-0fda-4138-b2fe-fa19db085fb6",
   "metadata": {},
   "source": [
    "March 14, 2022 Samantha Park "
   ]
  },
  {
   "cell_type": "markdown",
   "id": "6205c59d-5d17-4c43-9eef-97cd10ca8ad4",
   "metadata": {},
   "source": [
    "## INTRODUCTION"
   ]
  },
  {
   "cell_type": "markdown",
   "id": "e66549aa-46a7-4e68-ae50-2b54648c06d8",
   "metadata": {},
   "source": [
    "I would like to explore the implications of racial disparities behind foundation shades. Key words in my research question will be 'race,' 'bias,' and 'foundation shades.' As someone with an interest in beauty/cosmetics and who uses foundations on a daily basis, I thought this project could be a meaningful opportunity to educate myself in the problems and biases embedded within one of the most commonly used make up product. I believe make up is a huge driver for trends and societal perception of beauty, and the lack of creativity in naming darker shades as well as the limited range in foundations shades for PoC reflect racial bias in the cosmetic and beauty industry."
   ]
  },
  {
   "cell_type": "markdown",
   "id": "27fb4bae-e6bd-4d6c-aab2-3677f99ab20c",
   "metadata": {},
   "source": [
    "### Questions"
   ]
  },
  {
   "cell_type": "markdown",
   "id": "0f66b4e0-e426-4077-9888-56035c12771c",
   "metadata": {
    "tags": []
   },
   "source": [
    "1. Are there any racial disparities in the range and variety of foundation shades? \n",
    "2. How diverse is the language in labeling different shades? \n",
    "3. Is there a trend in the labeling system that reflects racial bias?"
   ]
  },
  {
   "cell_type": "markdown",
   "id": "c3f5d65c-c235-4638-ae7b-bd9036ea0ced",
   "metadata": {},
   "source": [
    "## METHODS"
   ]
  },
  {
   "cell_type": "markdown",
   "id": "765772c6-42bb-4b35-9363-848f98d2bdbe",
   "metadata": {},
   "source": [
    "### Data"
   ]
  },
  {
   "cell_type": "markdown",
   "id": "b297edfb-10d5-40db-b889-565d9afc4955",
   "metadata": {},
   "source": [
    "This data was provided by the digital publication company 'The Pudding'. The Github repository includes a number of datasets, but the ones used for the purpose of this project were 'allCategories', 'allNumbers', 'allShades'. The data were collected from US Sephora and Ulta's websites on January 11 and January 18, 2021, respectively. Any products available on both Sephora and Ulta’s websites were consolidated, and Ulta’s version of the product was used.  <br>\n",
    "**'allCategories'** csv file includes a dataset of foundation shades that used a word-based labelling system and their categories. The labels of shades were manually assigned to 16 categories. <br>\n",
    "**'allNumbers'** csv file includes a dataset of foundation products from Sephora and Ulta’s US websites that use a number-based labelling system. Utilizing all of the number labels from a single product line, they determined whether the numbers were sequential (i.e., there were no repeated numbers) or the same number could be used for multiple shades in the same line. For sequential products, the data shows whether the products were organized from light to dark or dark to light. <br> \n",
    "**'allShades'** csv file includes a dataset of color information from each foundation swatch. Hex values and lightness were extracted from the featured swatches on the website using the jpeg, magick, and imager packages in R. <br>"
   ]
  },
  {
   "cell_type": "markdown",
   "id": "f98c1225-0b26-4596-8cef-f734546c5bc7",
   "metadata": {},
   "source": [
    "*Include how they got the data (what is represented in the data, what's missing from the data that I think it's important)*"
   ]
  },
  {
   "cell_type": "markdown",
   "id": "19914e43-5366-489b-9a45-2ac0b4991738",
   "metadata": {},
   "source": [
    "### Terms to Know"
   ]
  },
  {
   "cell_type": "markdown",
   "id": "5e8f20e7-a716-42b5-9459-954cd9c4f492",
   "metadata": {},
   "source": [
    "**Lightness**: The lightness value from the HSL color space. This is represented as a decimal from 0 to 1 where 0 is pure black and 1 is pure white. <br>\n",
    "**Categories**: Manually assigned categories for labels of foundation shades. <br>\n",
    "**Numbers**: The numbers associated with a particular shade. <br>"
   ]
  },
  {
   "cell_type": "markdown",
   "id": "1fea4441-6cbc-4387-9abe-8529d2da41d6",
   "metadata": {},
   "source": [
    "### Shades"
   ]
  },
  {
   "cell_type": "markdown",
   "id": "3e70e135-4acf-43d9-a8d1-3cbd23eb6786",
   "metadata": {},
   "source": [
    "Below are images of shades that vary in lightness from 0.2 to 0.9. I extracted the Hex values of foundation shades that vary in lightness from 0.2 to 0.9, and used the website \"https://www.colorhexa.com/\" in order to retrieve the image of that Hex value. "
   ]
  },
  {
   "cell_type": "code",
   "execution_count": 1,
   "id": "631623c6-606d-4ce8-9a20-89176c95918e",
   "metadata": {},
   "outputs": [],
   "source": [
    "from IPython import display"
   ]
  },
  {
   "cell_type": "markdown",
   "id": "648ba780-c9e1-4af5-90f5-c66470a7f3c3",
   "metadata": {},
   "source": [
    "Lightness: 0.2"
   ]
  },
  {
   "cell_type": "code",
   "execution_count": 2,
   "id": "13d70393-2d1b-470b-99aa-a7e28b3d9165",
   "metadata": {},
   "outputs": [
    {
     "data": {
      "image/png": "[encoded data removed]",
      "text/plain": [
       "<IPython.core.display.Image object>"
      ]
     },
     "execution_count": 2,
     "metadata": {},
     "output_type": "execute_result"
    }
   ],
   "source": [
    "display.Image(\"https://www.colorhexa.com/462b21.png\")"
   ]
  },
  {
   "cell_type": "markdown",
   "id": "ed4dbcf5-52e7-4831-953f-372afbb64f27",
   "metadata": {},
   "source": [
    "Lightness: 0.3"
   ]
  },
  {
   "cell_type": "code",
   "execution_count": 3,
   "id": "9bc37beb-9993-4cd0-beeb-2280fc29aa76",
   "metadata": {},
   "outputs": [
    {
     "data": {
      "image/png": "[encoded data removed]",
      "text/plain": [
       "<IPython.core.display.Image object>"
      ]
     },
     "execution_count": 3,
     "metadata": {},
     "output_type": "execute_result"
    }
   ],
   "source": [
    "display.Image(\"https://www.colorhexa.com/763924.png\")"
   ]
  },
  {
   "cell_type": "markdown",
   "id": "9ccfb7f9-d76f-4802-b604-08dc978dd92c",
   "metadata": {},
   "source": [
    "Lightness: 0.4"
   ]
  },
  {
   "cell_type": "code",
   "execution_count": 4,
   "id": "a03fa9c7-b8d9-4a6c-b12f-88384d8948ea",
   "metadata": {},
   "outputs": [
    {
     "data": {
      "image/png": "[encoded data removed]",
      "text/plain": [
       "<IPython.core.display.Image object>"
      ]
     },
     "execution_count": 4,
     "metadata": {},
     "output_type": "execute_result"
    }
   ],
   "source": [
    "display.Image(\"https://www.colorhexa.com/955a38.png\")"
   ]
  },
  {
   "cell_type": "markdown",
   "id": "46f708c7-4342-47f9-a09f-27c7bb1023f5",
   "metadata": {},
   "source": [
    "Lightness: 0.5"
   ]
  },
  {
   "cell_type": "code",
   "execution_count": 5,
   "id": "aa8badee-b8f6-4c55-91ae-cfc26d986716",
   "metadata": {},
   "outputs": [
    {
     "data": {
      "image/png": "[encoded data removed]",
      "text/plain": [
       "<IPython.core.display.Image object>"
      ]
     },
     "execution_count": 5,
     "metadata": {},
     "output_type": "execute_result"
    }
   ],
   "source": [
    "display.Image(\"https://www.colorhexa.com/aa7555.png\")"
   ]
  },
  {
   "cell_type": "markdown",
   "id": "9b97e6a0-b5c4-4680-b988-239a907abcd5",
   "metadata": {},
   "source": [
    "Lightness: 0.6"
   ]
  },
  {
   "cell_type": "code",
   "execution_count": 6,
   "id": "e222e5b4-e9e0-414a-9b13-7a862488beb7",
   "metadata": {
    "tags": []
   },
   "outputs": [
    {
     "data": {
      "image/png": "[encoded data removed]",
      "text/plain": [
       "<IPython.core.display.Image object>"
      ]
     },
     "execution_count": 6,
     "metadata": {},
     "output_type": "execute_result"
    }
   ],
   "source": [
    "display.Image(\"https://www.colorhexa.com/d4915f.png\")"
   ]
  },
  {
   "cell_type": "markdown",
   "id": "bfd59bf4-62fb-4e03-9847-803b75771ef0",
   "metadata": {},
   "source": [
    "Lightness: 0.7"
   ]
  },
  {
   "cell_type": "code",
   "execution_count": 7,
   "id": "323ee77e-b681-4a70-b8fe-50e4fc5df3e8",
   "metadata": {},
   "outputs": [
    {
     "data": {
      "image/png": "[encoded data removed]",
      "text/plain": [
       "<IPython.core.display.Image object>"
      ]
     },
     "execution_count": 7,
     "metadata": {},
     "output_type": "execute_result"
    }
   ],
   "source": [
    "display.Image(\"https://www.colorhexa.com/e6b380.png\")"
   ]
  },
  {
   "cell_type": "markdown",
   "id": "2a7e8ff6-d4f9-4b39-8cf7-0e0840aa9b0d",
   "metadata": {},
   "source": [
    "Lightness: 0.8"
   ]
  },
  {
   "cell_type": "code",
   "execution_count": 8,
   "id": "688aa093-fc7d-424a-9afb-30a8668c19cc",
   "metadata": {},
   "outputs": [
    {
     "data": {
      "image/png": "[encoded data removed]",
      "text/plain": [
       "<IPython.core.display.Image object>"
      ]
     },
     "execution_count": 8,
     "metadata": {},
     "output_type": "execute_result"
    }
   ],
   "source": [
    "display.Image(\"https://www.colorhexa.com/f2cfa7.png\")"
   ]
  },
  {
   "cell_type": "markdown",
   "id": "5d61e8a9-1e77-49e6-9aa5-e69172b81d30",
   "metadata": {},
   "source": [
    "Lightness: 0.9"
   ]
  },
  {
   "cell_type": "code",
   "execution_count": 9,
   "id": "beb23707-b34f-49a6-b9d0-138b88e373fb",
   "metadata": {},
   "outputs": [
    {
     "data": {
      "image/png": "[encoded data removed]",
      "text/plain": [
       "<IPython.core.display.Image object>"
      ]
     },
     "execution_count": 9,
     "metadata": {},
     "output_type": "execute_result"
    }
   ],
   "source": [
    "display.Image(\"https://www.colorhexa.com/fbe6d1.png\")"
   ]
  },
  {
   "cell_type": "markdown",
   "id": "971d5e43-b7b1-4e31-b912-27426488378a",
   "metadata": {},
   "source": [
    "## RESULTS"
   ]
  },
  {
   "cell_type": "markdown",
   "id": "1fe9cc84-1665-4956-b7d5-c77b00ea83c7",
   "metadata": {},
   "source": [
    "### Exploring Data"
   ]
  },
  {
   "cell_type": "code",
   "execution_count": 10,
   "id": "b19baaed-064b-4275-9f05-89c576251edd",
   "metadata": {},
   "outputs": [],
   "source": [
    "import pandas as pd\n",
    "import requests \n",
    "import io\n",
    "import matplotlib.pyplot as plt "
   ]
  },
  {
   "cell_type": "code",
   "execution_count": 11,
   "id": "229666c8-a975-4306-b262-bff7d5c32074",
   "metadata": {},
   "outputs": [],
   "source": [
    "url = \"https://raw.githubusercontent.com/the-pudding/data/master/foundation-names/allCategories.csv\" \n",
    "download = requests.get(url).content"
   ]
  },
  {
   "cell_type": "code",
   "execution_count": 12,
   "id": "b3be0129-211a-4b1d-b850-4be2ccbd312d",
   "metadata": {},
   "outputs": [],
   "source": [
    "categoriesdf = pd.read_csv(io.StringIO(download.decode('utf-8')))"
   ]
  },
  {
   "cell_type": "code",
   "execution_count": 13,
   "id": "bf1506d9-4e88-401a-8839-3b5764dce4b6",
   "metadata": {},
   "outputs": [],
   "source": [
    "url2 = \"https://raw.githubusercontent.com/the-pudding/data/master/foundation-names/allShades.csv\" \n",
    "download = requests.get(url2).content"
   ]
  },
  {
   "cell_type": "code",
   "execution_count": 14,
   "id": "4e0156ec-de32-4385-a80c-c196de1a2a57",
   "metadata": {},
   "outputs": [],
   "source": [
    "shadesdf = pd.read_csv(io.StringIO(download.decode('utf-8')))"
   ]
  },
  {
   "cell_type": "code",
   "execution_count": 15,
   "id": "816be4f8-d7c5-4efd-98dc-064fc27924c3",
   "metadata": {},
   "outputs": [],
   "source": [
    "url3 = \"https://raw.githubusercontent.com/the-pudding/data/master/foundation-names/allNumbers.csv\"\n",
    "download = requests.get(url3).content"
   ]
  },
  {
   "cell_type": "code",
   "execution_count": 16,
   "id": "1cc480ba-91aa-48ac-921e-08ff11128730",
   "metadata": {},
   "outputs": [],
   "source": [
    "numbersdf = pd.read_csv(io.StringIO(download.decode('utf-8')))"
   ]
  },
  {
   "cell_type": "code",
   "execution_count": 17,
   "id": "76b7528c-1a40-43cd-81b0-9998e0fdca97",
   "metadata": {
    "collapsed": true,
    "jupyter": {
     "outputs_hidden": true
    },
    "tags": []
   },
   "outputs": [
    {
     "data": {
      "text/html": [
       "<div>\n",
       "<style scoped>\n",
       "    .dataframe tbody tr th:only-of-type {\n",
       "        vertical-align: middle;\n",
       "    }\n",
       "\n",
       "    .dataframe tbody tr th {\n",
       "        vertical-align: top;\n",
       "    }\n",
       "\n",
       "    .dataframe thead th {\n",
       "        text-align: right;\n",
       "    }\n",
       "</style>\n",
       "<table border=\"1\" class=\"dataframe\">\n",
       "  <thead>\n",
       "    <tr style=\"text-align: right;\">\n",
       "      <th></th>\n",
       "      <th>brand</th>\n",
       "      <th>product</th>\n",
       "      <th>url</th>\n",
       "      <th>description</th>\n",
       "      <th>imgSrc</th>\n",
       "      <th>imgAlt</th>\n",
       "      <th>name</th>\n",
       "      <th>specific</th>\n",
       "      <th>colorspace</th>\n",
       "      <th>hex</th>\n",
       "      <th>hue</th>\n",
       "      <th>sat</th>\n",
       "      <th>lightness</th>\n",
       "    </tr>\n",
       "  </thead>\n",
       "  <tbody>\n",
       "    <tr>\n",
       "      <th>0</th>\n",
       "      <td>Anastasia Beverly Hills</td>\n",
       "      <td>Luminous Foundation</td>\n",
       "      <td>https://www.ulta.com/luminous-foundation?produ...</td>\n",
       "      <td>355N (medium skin with a neutral golden undert...</td>\n",
       "      <td>https://images.ulta.com/is/image/Ulta/2551437s...</td>\n",
       "      <td>355N (medium skin with a neutral golden undert...</td>\n",
       "      <td>NaN</td>\n",
       "      <td>355N</td>\n",
       "      <td>RGB</td>\n",
       "      <td>#A06F4A</td>\n",
       "      <td>25.813953</td>\n",
       "      <td>0.367521</td>\n",
       "      <td>0.458824</td>\n",
       "    </tr>\n",
       "    <tr>\n",
       "      <th>1</th>\n",
       "      <td>Anastasia Beverly Hills</td>\n",
       "      <td>Luminous Foundation</td>\n",
       "      <td>https://www.ulta.com/luminous-foundation?produ...</td>\n",
       "      <td>100N (very fair skin with a neutral undertone)</td>\n",
       "      <td>https://images.ulta.com/is/image/Ulta/2551414s...</td>\n",
       "      <td>100N (very fair skin with a neutral undertone)</td>\n",
       "      <td>NaN</td>\n",
       "      <td>100N</td>\n",
       "      <td>RGB</td>\n",
       "      <td>#F1E7DB</td>\n",
       "      <td>32.727273</td>\n",
       "      <td>0.440000</td>\n",
       "      <td>0.901961</td>\n",
       "    </tr>\n",
       "    <tr>\n",
       "      <th>2</th>\n",
       "      <td>Anastasia Beverly Hills</td>\n",
       "      <td>Luminous Foundation</td>\n",
       "      <td>https://www.ulta.com/luminous-foundation?produ...</td>\n",
       "      <td>110C (very fair skin with a cool undertone)</td>\n",
       "      <td>https://images.ulta.com/is/image/Ulta/2551412s...</td>\n",
       "      <td>110C (very fair skin with a cool undertone)</td>\n",
       "      <td>NaN</td>\n",
       "      <td>110C</td>\n",
       "      <td>RGB</td>\n",
       "      <td>#F0E7DB</td>\n",
       "      <td>34.285714</td>\n",
       "      <td>0.411765</td>\n",
       "      <td>0.900000</td>\n",
       "    </tr>\n",
       "    <tr>\n",
       "      <th>3</th>\n",
       "      <td>Anastasia Beverly Hills</td>\n",
       "      <td>Luminous Foundation</td>\n",
       "      <td>https://www.ulta.com/luminous-foundation?produ...</td>\n",
       "      <td>120W (very fair skin with a warm undertone)</td>\n",
       "      <td>https://images.ulta.com/is/image/Ulta/2551419s...</td>\n",
       "      <td>120W (very fair skin with a warm undertone)</td>\n",
       "      <td>NaN</td>\n",
       "      <td>120W</td>\n",
       "      <td>RGB</td>\n",
       "      <td>#EFD0AE</td>\n",
       "      <td>31.384615</td>\n",
       "      <td>0.670103</td>\n",
       "      <td>0.809804</td>\n",
       "    </tr>\n",
       "    <tr>\n",
       "      <th>4</th>\n",
       "      <td>Anastasia Beverly Hills</td>\n",
       "      <td>Luminous Foundation</td>\n",
       "      <td>https://www.ulta.com/luminous-foundation?produ...</td>\n",
       "      <td>130N (very fair skin with a neutral pink under...</td>\n",
       "      <td>https://images.ulta.com/is/image/Ulta/2551416s...</td>\n",
       "      <td>130N (very fair skin with a neutral pink under...</td>\n",
       "      <td>NaN</td>\n",
       "      <td>130N</td>\n",
       "      <td>RGB</td>\n",
       "      <td>#D5C1AA</td>\n",
       "      <td>32.093023</td>\n",
       "      <td>0.338583</td>\n",
       "      <td>0.750980</td>\n",
       "    </tr>\n",
       "    <tr>\n",
       "      <th>...</th>\n",
       "      <td>...</td>\n",
       "      <td>...</td>\n",
       "      <td>...</td>\n",
       "      <td>...</td>\n",
       "      <td>...</td>\n",
       "      <td>...</td>\n",
       "      <td>...</td>\n",
       "      <td>...</td>\n",
       "      <td>...</td>\n",
       "      <td>...</td>\n",
       "      <td>...</td>\n",
       "      <td>...</td>\n",
       "      <td>...</td>\n",
       "    </tr>\n",
       "    <tr>\n",
       "      <th>6811</th>\n",
       "      <td>Lancôme</td>\n",
       "      <td>Bienfait Teinté Beauty Balm Sunscreen Broad Sp...</td>\n",
       "      <td>https://www.sephora.com/product/bienfait-teint...</td>\n",
       "      <td>5 Sand for medium skintones with neutral to pe...</td>\n",
       "      <td>/productimages/sku/s1509348+sw.jpg</td>\n",
       "      <td>5 Sand 1.7 oz</td>\n",
       "      <td>Sand</td>\n",
       "      <td>5</td>\n",
       "      <td>RGB</td>\n",
       "      <td>#D29F77</td>\n",
       "      <td>26.373626</td>\n",
       "      <td>0.502762</td>\n",
       "      <td>0.645098</td>\n",
       "    </tr>\n",
       "    <tr>\n",
       "      <th>6812</th>\n",
       "      <td>Antonym</td>\n",
       "      <td>Certified Organic Baked Foundation</td>\n",
       "      <td>https://www.sephora.com/product/certified-orga...</td>\n",
       "      <td>Dark - Selected</td>\n",
       "      <td>/productimages/sku/s1977479+sw.jpg</td>\n",
       "      <td>Dark 0.29 oz/ 8.5 g Clean at Sephora</td>\n",
       "      <td>Dark</td>\n",
       "      <td>NaN</td>\n",
       "      <td>RGB</td>\n",
       "      <td>#D39C7B</td>\n",
       "      <td>22.500000</td>\n",
       "      <td>0.500000</td>\n",
       "      <td>0.654902</td>\n",
       "    </tr>\n",
       "    <tr>\n",
       "      <th>6813</th>\n",
       "      <td>Benefit Cosmetics</td>\n",
       "      <td>Hello Happy Soft Blur Foundation</td>\n",
       "      <td>https://www.sephora.com/product/hello-happy-so...</td>\n",
       "      <td>Shade 11 dark neutral - Selected</td>\n",
       "      <td>/productimages/sku/s2086551+sw.jpg</td>\n",
       "      <td>Shade 11 1 oz/ 30 mL</td>\n",
       "      <td>NaN</td>\n",
       "      <td>Shade 11</td>\n",
       "      <td>RGB</td>\n",
       "      <td>#C9866E</td>\n",
       "      <td>15.824176</td>\n",
       "      <td>0.457286</td>\n",
       "      <td>0.609804</td>\n",
       "    </tr>\n",
       "    <tr>\n",
       "      <th>6814</th>\n",
       "      <td>Urban Decay Cosmetics</td>\n",
       "      <td>Naked Skin Ultra Definition Pressed Finishing ...</td>\n",
       "      <td>https://www.sephora.com/product/naked-skin-ult...</td>\n",
       "      <td>Naked Dark - Selected</td>\n",
       "      <td>/productimages/sku/s1532084+sw.jpg</td>\n",
       "      <td>Naked Dark 0.26 oz/ 7.3 g</td>\n",
       "      <td>Naked Dark</td>\n",
       "      <td>NaN</td>\n",
       "      <td>RGB</td>\n",
       "      <td>#AF7754</td>\n",
       "      <td>23.076923</td>\n",
       "      <td>0.362550</td>\n",
       "      <td>0.507843</td>\n",
       "    </tr>\n",
       "    <tr>\n",
       "      <th>6815</th>\n",
       "      <td>bareMinerals</td>\n",
       "      <td>bareSkin® Pure Brightening Serum Foundation Br...</td>\n",
       "      <td>https://www.sephora.com/product/bareskin-pure-...</td>\n",
       "      <td>Bare Mocha 20 - Selected</td>\n",
       "      <td>/productimages/sku/s1576883+sw.jpg</td>\n",
       "      <td>Bare Mocha 20 1 oz</td>\n",
       "      <td>Bare Mocha</td>\n",
       "      <td>20</td>\n",
       "      <td>RGB</td>\n",
       "      <td>#AF7357</td>\n",
       "      <td>19.090909</td>\n",
       "      <td>0.354839</td>\n",
       "      <td>0.513725</td>\n",
       "    </tr>\n",
       "  </tbody>\n",
       "</table>\n",
       "<p>6816 rows × 13 columns</p>\n",
       "</div>"
      ],
      "text/plain": [
       "                        brand  \\\n",
       "0     Anastasia Beverly Hills   \n",
       "1     Anastasia Beverly Hills   \n",
       "2     Anastasia Beverly Hills   \n",
       "3     Anastasia Beverly Hills   \n",
       "4     Anastasia Beverly Hills   \n",
       "...                       ...   \n",
       "6811                  Lancôme   \n",
       "6812                  Antonym   \n",
       "6813        Benefit Cosmetics   \n",
       "6814    Urban Decay Cosmetics   \n",
       "6815             bareMinerals   \n",
       "\n",
       "                                                product  \\\n",
       "0                                   Luminous Foundation   \n",
       "1                                   Luminous Foundation   \n",
       "2                                   Luminous Foundation   \n",
       "3                                   Luminous Foundation   \n",
       "4                                   Luminous Foundation   \n",
       "...                                                 ...   \n",
       "6811  Bienfait Teinté Beauty Balm Sunscreen Broad Sp...   \n",
       "6812                 Certified Organic Baked Foundation   \n",
       "6813                   Hello Happy Soft Blur Foundation   \n",
       "6814  Naked Skin Ultra Definition Pressed Finishing ...   \n",
       "6815  bareSkin® Pure Brightening Serum Foundation Br...   \n",
       "\n",
       "                                                    url  \\\n",
       "0     https://www.ulta.com/luminous-foundation?produ...   \n",
       "1     https://www.ulta.com/luminous-foundation?produ...   \n",
       "2     https://www.ulta.com/luminous-foundation?produ...   \n",
       "3     https://www.ulta.com/luminous-foundation?produ...   \n",
       "4     https://www.ulta.com/luminous-foundation?produ...   \n",
       "...                                                 ...   \n",
       "6811  https://www.sephora.com/product/bienfait-teint...   \n",
       "6812  https://www.sephora.com/product/certified-orga...   \n",
       "6813  https://www.sephora.com/product/hello-happy-so...   \n",
       "6814  https://www.sephora.com/product/naked-skin-ult...   \n",
       "6815  https://www.sephora.com/product/bareskin-pure-...   \n",
       "\n",
       "                                            description  \\\n",
       "0     355N (medium skin with a neutral golden undert...   \n",
       "1        100N (very fair skin with a neutral undertone)   \n",
       "2           110C (very fair skin with a cool undertone)   \n",
       "3           120W (very fair skin with a warm undertone)   \n",
       "4     130N (very fair skin with a neutral pink under...   \n",
       "...                                                 ...   \n",
       "6811  5 Sand for medium skintones with neutral to pe...   \n",
       "6812                                    Dark - Selected   \n",
       "6813                   Shade 11 dark neutral - Selected   \n",
       "6814                              Naked Dark - Selected   \n",
       "6815                           Bare Mocha 20 - Selected   \n",
       "\n",
       "                                                 imgSrc  \\\n",
       "0     https://images.ulta.com/is/image/Ulta/2551437s...   \n",
       "1     https://images.ulta.com/is/image/Ulta/2551414s...   \n",
       "2     https://images.ulta.com/is/image/Ulta/2551412s...   \n",
       "3     https://images.ulta.com/is/image/Ulta/2551419s...   \n",
       "4     https://images.ulta.com/is/image/Ulta/2551416s...   \n",
       "...                                                 ...   \n",
       "6811                 /productimages/sku/s1509348+sw.jpg   \n",
       "6812                 /productimages/sku/s1977479+sw.jpg   \n",
       "6813                 /productimages/sku/s2086551+sw.jpg   \n",
       "6814                 /productimages/sku/s1532084+sw.jpg   \n",
       "6815                 /productimages/sku/s1576883+sw.jpg   \n",
       "\n",
       "                                                 imgAlt        name  specific  \\\n",
       "0     355N (medium skin with a neutral golden undert...         NaN      355N   \n",
       "1        100N (very fair skin with a neutral undertone)         NaN      100N   \n",
       "2           110C (very fair skin with a cool undertone)         NaN      110C   \n",
       "3           120W (very fair skin with a warm undertone)         NaN      120W   \n",
       "4     130N (very fair skin with a neutral pink under...         NaN      130N   \n",
       "...                                                 ...         ...       ...   \n",
       "6811                                      5 Sand 1.7 oz        Sand         5   \n",
       "6812               Dark 0.29 oz/ 8.5 g Clean at Sephora        Dark       NaN   \n",
       "6813                               Shade 11 1 oz/ 30 mL         NaN  Shade 11   \n",
       "6814                          Naked Dark 0.26 oz/ 7.3 g  Naked Dark       NaN   \n",
       "6815                                 Bare Mocha 20 1 oz  Bare Mocha        20   \n",
       "\n",
       "     colorspace      hex        hue       sat  lightness  \n",
       "0           RGB  #A06F4A  25.813953  0.367521   0.458824  \n",
       "1           RGB  #F1E7DB  32.727273  0.440000   0.901961  \n",
       "2           RGB  #F0E7DB  34.285714  0.411765   0.900000  \n",
       "3           RGB  #EFD0AE  31.384615  0.670103   0.809804  \n",
       "4           RGB  #D5C1AA  32.093023  0.338583   0.750980  \n",
       "...         ...      ...        ...       ...        ...  \n",
       "6811        RGB  #D29F77  26.373626  0.502762   0.645098  \n",
       "6812        RGB  #D39C7B  22.500000  0.500000   0.654902  \n",
       "6813        RGB  #C9866E  15.824176  0.457286   0.609804  \n",
       "6814        RGB  #AF7754  23.076923  0.362550   0.507843  \n",
       "6815        RGB  #AF7357  19.090909  0.354839   0.513725  \n",
       "\n",
       "[6816 rows x 13 columns]"
      ]
     },
     "execution_count": 17,
     "metadata": {},
     "output_type": "execute_result"
    }
   ],
   "source": [
    "shadesdf"
   ]
  },
  {
   "cell_type": "code",
   "execution_count": 18,
   "id": "c7165766-af00-406a-a32e-2a79a2ee894c",
   "metadata": {
    "collapsed": true,
    "jupyter": {
     "outputs_hidden": true
    },
    "tags": []
   },
   "outputs": [
    {
     "data": {
      "text/html": [
       "<div>\n",
       "<style scoped>\n",
       "    .dataframe tbody tr th:only-of-type {\n",
       "        vertical-align: middle;\n",
       "    }\n",
       "\n",
       "    .dataframe tbody tr th {\n",
       "        vertical-align: top;\n",
       "    }\n",
       "\n",
       "    .dataframe thead th {\n",
       "        text-align: right;\n",
       "    }\n",
       "</style>\n",
       "<table border=\"1\" class=\"dataframe\">\n",
       "  <thead>\n",
       "    <tr style=\"text-align: right;\">\n",
       "      <th></th>\n",
       "      <th>brand</th>\n",
       "      <th>product</th>\n",
       "      <th>url</th>\n",
       "      <th>imgSrc</th>\n",
       "      <th>name</th>\n",
       "      <th>categories</th>\n",
       "      <th>specific</th>\n",
       "      <th>hex</th>\n",
       "      <th>lightness</th>\n",
       "    </tr>\n",
       "  </thead>\n",
       "  <tbody>\n",
       "    <tr>\n",
       "      <th>0</th>\n",
       "      <td>BECCA Cosmetics</td>\n",
       "      <td>Ultimate Coverage 24 Hour Foundation</td>\n",
       "      <td>https://www.ulta.com/ultimate-coverage-24-hour...</td>\n",
       "      <td>https://images.ulta.com/is/image/Ulta/2528173s...</td>\n",
       "      <td>shell</td>\n",
       "      <td>gem</td>\n",
       "      <td>1W1</td>\n",
       "      <td>#EFCBA4</td>\n",
       "      <td>0.790196</td>\n",
       "    </tr>\n",
       "    <tr>\n",
       "      <th>1</th>\n",
       "      <td>BECCA Cosmetics</td>\n",
       "      <td>Ultimate Coverage 24 Hour Foundation</td>\n",
       "      <td>https://www.ulta.com/ultimate-coverage-24-hour...</td>\n",
       "      <td>https://images.ulta.com/is/image/Ulta/2529033s...</td>\n",
       "      <td>linen</td>\n",
       "      <td>textile</td>\n",
       "      <td>1N1</td>\n",
       "      <td>#F3CEB0</td>\n",
       "      <td>0.821569</td>\n",
       "    </tr>\n",
       "    <tr>\n",
       "      <th>2</th>\n",
       "      <td>BECCA Cosmetics</td>\n",
       "      <td>Ultimate Coverage 24 Hour Foundation</td>\n",
       "      <td>https://www.ulta.com/ultimate-coverage-24-hour...</td>\n",
       "      <td>https://images.ulta.com/is/image/Ulta/2549910s...</td>\n",
       "      <td>alabaster</td>\n",
       "      <td>gem</td>\n",
       "      <td>1C1</td>\n",
       "      <td>#F2CBB4</td>\n",
       "      <td>0.827451</td>\n",
       "    </tr>\n",
       "    <tr>\n",
       "      <th>3</th>\n",
       "      <td>BECCA Cosmetics</td>\n",
       "      <td>Ultimate Coverage 24 Hour Foundation</td>\n",
       "      <td>https://www.ulta.com/ultimate-coverage-24-hour...</td>\n",
       "      <td>https://images.ulta.com/is/image/Ulta/2528170s...</td>\n",
       "      <td>porcelain</td>\n",
       "      <td>misc</td>\n",
       "      <td>1N2</td>\n",
       "      <td>#F6C8A7</td>\n",
       "      <td>0.809804</td>\n",
       "    </tr>\n",
       "    <tr>\n",
       "      <th>4</th>\n",
       "      <td>BECCA Cosmetics</td>\n",
       "      <td>Ultimate Coverage 24 Hour Foundation</td>\n",
       "      <td>https://www.ulta.com/ultimate-coverage-24-hour...</td>\n",
       "      <td>https://images.ulta.com/is/image/Ulta/2529037s...</td>\n",
       "      <td>ivory</td>\n",
       "      <td>gem, color</td>\n",
       "      <td>1C2</td>\n",
       "      <td>#F0C4AB</td>\n",
       "      <td>0.805882</td>\n",
       "    </tr>\n",
       "    <tr>\n",
       "      <th>...</th>\n",
       "      <td>...</td>\n",
       "      <td>...</td>\n",
       "      <td>...</td>\n",
       "      <td>...</td>\n",
       "      <td>...</td>\n",
       "      <td>...</td>\n",
       "      <td>...</td>\n",
       "      <td>...</td>\n",
       "      <td>...</td>\n",
       "    </tr>\n",
       "    <tr>\n",
       "      <th>5302</th>\n",
       "      <td>Lancôme</td>\n",
       "      <td>Bienfait Teinté Beauty Balm Sunscreen Broad Sp...</td>\n",
       "      <td>https://www.sephora.com/product/bienfait-teint...</td>\n",
       "      <td>/productimages/sku/s1509348+sw.jpg</td>\n",
       "      <td>sand</td>\n",
       "      <td>rock</td>\n",
       "      <td>5</td>\n",
       "      <td>#D29F77</td>\n",
       "      <td>0.645098</td>\n",
       "    </tr>\n",
       "    <tr>\n",
       "      <th>5303</th>\n",
       "      <td>Antonym</td>\n",
       "      <td>Certified Organic Baked Foundation</td>\n",
       "      <td>https://www.sephora.com/product/certified-orga...</td>\n",
       "      <td>/productimages/sku/s1977479+sw.jpg</td>\n",
       "      <td>dark</td>\n",
       "      <td>descriptor</td>\n",
       "      <td>NaN</td>\n",
       "      <td>#D39C7B</td>\n",
       "      <td>0.654902</td>\n",
       "    </tr>\n",
       "    <tr>\n",
       "      <th>5304</th>\n",
       "      <td>Benefit Cosmetics</td>\n",
       "      <td>Hello Happy Soft Blur Foundation</td>\n",
       "      <td>https://www.sephora.com/product/hello-happy-so...</td>\n",
       "      <td>/productimages/sku/s2086551+sw.jpg</td>\n",
       "      <td>dark neutral</td>\n",
       "      <td>descriptor</td>\n",
       "      <td>Shade 11</td>\n",
       "      <td>#C9866E</td>\n",
       "      <td>0.609804</td>\n",
       "    </tr>\n",
       "    <tr>\n",
       "      <th>5305</th>\n",
       "      <td>Urban Decay Cosmetics</td>\n",
       "      <td>Naked Skin Ultra Definition Pressed Finishing ...</td>\n",
       "      <td>https://www.sephora.com/product/naked-skin-ult...</td>\n",
       "      <td>/productimages/sku/s1532084+sw.jpg</td>\n",
       "      <td>naked dark</td>\n",
       "      <td>skin, descriptor</td>\n",
       "      <td>NaN</td>\n",
       "      <td>#AF7754</td>\n",
       "      <td>0.507843</td>\n",
       "    </tr>\n",
       "    <tr>\n",
       "      <th>5306</th>\n",
       "      <td>bareMinerals</td>\n",
       "      <td>bareSkin® Pure Brightening Serum Foundation Br...</td>\n",
       "      <td>https://www.sephora.com/product/bareskin-pure-...</td>\n",
       "      <td>/productimages/sku/s1576883+sw.jpg</td>\n",
       "      <td>bare mocha</td>\n",
       "      <td>skin, drink</td>\n",
       "      <td>20</td>\n",
       "      <td>#AF7357</td>\n",
       "      <td>0.513725</td>\n",
       "    </tr>\n",
       "  </tbody>\n",
       "</table>\n",
       "<p>5307 rows × 9 columns</p>\n",
       "</div>"
      ],
      "text/plain": [
       "                      brand  \\\n",
       "0           BECCA Cosmetics   \n",
       "1           BECCA Cosmetics   \n",
       "2           BECCA Cosmetics   \n",
       "3           BECCA Cosmetics   \n",
       "4           BECCA Cosmetics   \n",
       "...                     ...   \n",
       "5302                Lancôme   \n",
       "5303                Antonym   \n",
       "5304      Benefit Cosmetics   \n",
       "5305  Urban Decay Cosmetics   \n",
       "5306           bareMinerals   \n",
       "\n",
       "                                                product  \\\n",
       "0                  Ultimate Coverage 24 Hour Foundation   \n",
       "1                  Ultimate Coverage 24 Hour Foundation   \n",
       "2                  Ultimate Coverage 24 Hour Foundation   \n",
       "3                  Ultimate Coverage 24 Hour Foundation   \n",
       "4                  Ultimate Coverage 24 Hour Foundation   \n",
       "...                                                 ...   \n",
       "5302  Bienfait Teinté Beauty Balm Sunscreen Broad Sp...   \n",
       "5303                 Certified Organic Baked Foundation   \n",
       "5304                   Hello Happy Soft Blur Foundation   \n",
       "5305  Naked Skin Ultra Definition Pressed Finishing ...   \n",
       "5306  bareSkin® Pure Brightening Serum Foundation Br...   \n",
       "\n",
       "                                                    url  \\\n",
       "0     https://www.ulta.com/ultimate-coverage-24-hour...   \n",
       "1     https://www.ulta.com/ultimate-coverage-24-hour...   \n",
       "2     https://www.ulta.com/ultimate-coverage-24-hour...   \n",
       "3     https://www.ulta.com/ultimate-coverage-24-hour...   \n",
       "4     https://www.ulta.com/ultimate-coverage-24-hour...   \n",
       "...                                                 ...   \n",
       "5302  https://www.sephora.com/product/bienfait-teint...   \n",
       "5303  https://www.sephora.com/product/certified-orga...   \n",
       "5304  https://www.sephora.com/product/hello-happy-so...   \n",
       "5305  https://www.sephora.com/product/naked-skin-ult...   \n",
       "5306  https://www.sephora.com/product/bareskin-pure-...   \n",
       "\n",
       "                                                 imgSrc          name  \\\n",
       "0     https://images.ulta.com/is/image/Ulta/2528173s...         shell   \n",
       "1     https://images.ulta.com/is/image/Ulta/2529033s...         linen   \n",
       "2     https://images.ulta.com/is/image/Ulta/2549910s...     alabaster   \n",
       "3     https://images.ulta.com/is/image/Ulta/2528170s...     porcelain   \n",
       "4     https://images.ulta.com/is/image/Ulta/2529037s...         ivory   \n",
       "...                                                 ...           ...   \n",
       "5302                 /productimages/sku/s1509348+sw.jpg          sand   \n",
       "5303                 /productimages/sku/s1977479+sw.jpg          dark   \n",
       "5304                 /productimages/sku/s2086551+sw.jpg  dark neutral   \n",
       "5305                 /productimages/sku/s1532084+sw.jpg    naked dark   \n",
       "5306                 /productimages/sku/s1576883+sw.jpg    bare mocha   \n",
       "\n",
       "            categories  specific      hex  lightness  \n",
       "0                  gem       1W1  #EFCBA4   0.790196  \n",
       "1              textile       1N1  #F3CEB0   0.821569  \n",
       "2                  gem       1C1  #F2CBB4   0.827451  \n",
       "3                 misc       1N2  #F6C8A7   0.809804  \n",
       "4           gem, color       1C2  #F0C4AB   0.805882  \n",
       "...                ...       ...      ...        ...  \n",
       "5302              rock         5  #D29F77   0.645098  \n",
       "5303        descriptor       NaN  #D39C7B   0.654902  \n",
       "5304        descriptor  Shade 11  #C9866E   0.609804  \n",
       "5305  skin, descriptor       NaN  #AF7754   0.507843  \n",
       "5306       skin, drink        20  #AF7357   0.513725  \n",
       "\n",
       "[5307 rows x 9 columns]"
      ]
     },
     "execution_count": 18,
     "metadata": {},
     "output_type": "execute_result"
    }
   ],
   "source": [
    "categoriesdf"
   ]
  },
  {
   "cell_type": "code",
   "execution_count": 19,
   "id": "d98947bd-3dcb-45a5-9f8b-f593dcf5f302",
   "metadata": {
    "collapsed": true,
    "jupyter": {
     "outputs_hidden": true
    },
    "tags": []
   },
   "outputs": [
    {
     "data": {
      "text/html": [
       "<div>\n",
       "<style scoped>\n",
       "    .dataframe tbody tr th:only-of-type {\n",
       "        vertical-align: middle;\n",
       "    }\n",
       "\n",
       "    .dataframe tbody tr th {\n",
       "        vertical-align: top;\n",
       "    }\n",
       "\n",
       "    .dataframe thead th {\n",
       "        text-align: right;\n",
       "    }\n",
       "</style>\n",
       "<table border=\"1\" class=\"dataframe\">\n",
       "  <thead>\n",
       "    <tr style=\"text-align: right;\">\n",
       "      <th></th>\n",
       "      <th>brand</th>\n",
       "      <th>product</th>\n",
       "      <th>name</th>\n",
       "      <th>specific</th>\n",
       "      <th>lightness</th>\n",
       "      <th>hex</th>\n",
       "      <th>lightToDark</th>\n",
       "      <th>numbers</th>\n",
       "      <th>id</th>\n",
       "    </tr>\n",
       "  </thead>\n",
       "  <tbody>\n",
       "    <tr>\n",
       "      <th>0</th>\n",
       "      <td>Makeup Revolution</td>\n",
       "      <td>Conceal &amp; Define Full Coverage Foundation</td>\n",
       "      <td>NaN</td>\n",
       "      <td>F0</td>\n",
       "      <td>0.949020</td>\n",
       "      <td>#F2F2F2</td>\n",
       "      <td>True</td>\n",
       "      <td>0.0</td>\n",
       "      <td>1.0</td>\n",
       "    </tr>\n",
       "    <tr>\n",
       "      <th>1</th>\n",
       "      <td>HOURGLASS</td>\n",
       "      <td>Veil Fluid Makeup</td>\n",
       "      <td>Porcelain</td>\n",
       "      <td>No. 0</td>\n",
       "      <td>0.817647</td>\n",
       "      <td>#F6D3AB</td>\n",
       "      <td>True</td>\n",
       "      <td>0.0</td>\n",
       "      <td>2.0</td>\n",
       "    </tr>\n",
       "    <tr>\n",
       "      <th>2</th>\n",
       "      <td>TOM FORD</td>\n",
       "      <td>Traceless Soft Matte Foundation</td>\n",
       "      <td>Pearl</td>\n",
       "      <td>0.0</td>\n",
       "      <td>0.850980</td>\n",
       "      <td>#F0D8C2</td>\n",
       "      <td>True</td>\n",
       "      <td>0.0</td>\n",
       "      <td>3.0</td>\n",
       "    </tr>\n",
       "    <tr>\n",
       "      <th>3</th>\n",
       "      <td>Armani Beauty</td>\n",
       "      <td>Neo Nude Foundation</td>\n",
       "      <td>NaN</td>\n",
       "      <td>0</td>\n",
       "      <td>0.911765</td>\n",
       "      <td>#F0E8E1</td>\n",
       "      <td>True</td>\n",
       "      <td>0.0</td>\n",
       "      <td>4.0</td>\n",
       "    </tr>\n",
       "    <tr>\n",
       "      <th>4</th>\n",
       "      <td>TOM FORD</td>\n",
       "      <td>Traceless Foundation Stick</td>\n",
       "      <td>Pearl</td>\n",
       "      <td>0.0</td>\n",
       "      <td>0.911765</td>\n",
       "      <td>#FDE5D4</td>\n",
       "      <td>True</td>\n",
       "      <td>0.0</td>\n",
       "      <td>5.0</td>\n",
       "    </tr>\n",
       "    <tr>\n",
       "      <th>...</th>\n",
       "      <td>...</td>\n",
       "      <td>...</td>\n",
       "      <td>...</td>\n",
       "      <td>...</td>\n",
       "      <td>...</td>\n",
       "      <td>...</td>\n",
       "      <td>...</td>\n",
       "      <td>...</td>\n",
       "      <td>...</td>\n",
       "    </tr>\n",
       "    <tr>\n",
       "      <th>3112</th>\n",
       "      <td>Juvia's Place</td>\n",
       "      <td>I Am Magic Foundation</td>\n",
       "      <td>Isla</td>\n",
       "      <td>730</td>\n",
       "      <td>0.792157</td>\n",
       "      <td>#ECC4A8</td>\n",
       "      <td>False</td>\n",
       "      <td>730.0</td>\n",
       "      <td>93.0</td>\n",
       "    </tr>\n",
       "    <tr>\n",
       "      <th>3113</th>\n",
       "      <td>Origins</td>\n",
       "      <td>Pretty in Bloom™ SPF 20 Flower-Infused Long-We...</td>\n",
       "      <td>NaN</td>\n",
       "      <td>730</td>\n",
       "      <td>0.429412</td>\n",
       "      <td>#835E58</td>\n",
       "      <td>True</td>\n",
       "      <td>730.0</td>\n",
       "      <td>102.0</td>\n",
       "    </tr>\n",
       "    <tr>\n",
       "      <th>3114</th>\n",
       "      <td>Juvia's Place</td>\n",
       "      <td>I Am Magic Foundation</td>\n",
       "      <td>Marisol</td>\n",
       "      <td>740</td>\n",
       "      <td>0.803922</td>\n",
       "      <td>#F2C5A8</td>\n",
       "      <td>False</td>\n",
       "      <td>740.0</td>\n",
       "      <td>93.0</td>\n",
       "    </tr>\n",
       "    <tr>\n",
       "      <th>3115</th>\n",
       "      <td>Origins</td>\n",
       "      <td>Pretty in Bloom™ SPF 20 Flower-Infused Long-We...</td>\n",
       "      <td>NaN</td>\n",
       "      <td>740</td>\n",
       "      <td>0.407843</td>\n",
       "      <td>#715F5F</td>\n",
       "      <td>True</td>\n",
       "      <td>740.0</td>\n",
       "      <td>102.0</td>\n",
       "    </tr>\n",
       "    <tr>\n",
       "      <th>3116</th>\n",
       "      <td>Almay</td>\n",
       "      <td>Clear Complexion Make Myself Clear Makeup</td>\n",
       "      <td>Cappuccino</td>\n",
       "      <td>900</td>\n",
       "      <td>0.360784</td>\n",
       "      <td>#904D28</td>\n",
       "      <td>True</td>\n",
       "      <td>900.0</td>\n",
       "      <td>92.0</td>\n",
       "    </tr>\n",
       "  </tbody>\n",
       "</table>\n",
       "<p>3117 rows × 9 columns</p>\n",
       "</div>"
      ],
      "text/plain": [
       "                  brand                                            product  \\\n",
       "0     Makeup Revolution          Conceal & Define Full Coverage Foundation   \n",
       "1             HOURGLASS                                  Veil Fluid Makeup   \n",
       "2              TOM FORD                    Traceless Soft Matte Foundation   \n",
       "3         Armani Beauty                                Neo Nude Foundation   \n",
       "4              TOM FORD                         Traceless Foundation Stick   \n",
       "...                 ...                                                ...   \n",
       "3112      Juvia's Place                              I Am Magic Foundation   \n",
       "3113            Origins  Pretty in Bloom™ SPF 20 Flower-Infused Long-We...   \n",
       "3114      Juvia's Place                              I Am Magic Foundation   \n",
       "3115            Origins  Pretty in Bloom™ SPF 20 Flower-Infused Long-We...   \n",
       "3116              Almay          Clear Complexion Make Myself Clear Makeup   \n",
       "\n",
       "            name specific  lightness      hex lightToDark  numbers     id  \n",
       "0            NaN       F0   0.949020  #F2F2F2        True      0.0    1.0  \n",
       "1      Porcelain    No. 0   0.817647  #F6D3AB        True      0.0    2.0  \n",
       "2          Pearl      0.0   0.850980  #F0D8C2        True      0.0    3.0  \n",
       "3            NaN        0   0.911765  #F0E8E1        True      0.0    4.0  \n",
       "4          Pearl      0.0   0.911765  #FDE5D4        True      0.0    5.0  \n",
       "...          ...      ...        ...      ...         ...      ...    ...  \n",
       "3112        Isla      730   0.792157  #ECC4A8       False    730.0   93.0  \n",
       "3113         NaN      730   0.429412  #835E58        True    730.0  102.0  \n",
       "3114     Marisol      740   0.803922  #F2C5A8       False    740.0   93.0  \n",
       "3115         NaN      740   0.407843  #715F5F        True    740.0  102.0  \n",
       "3116  Cappuccino      900   0.360784  #904D28        True    900.0   92.0  \n",
       "\n",
       "[3117 rows x 9 columns]"
      ]
     },
     "execution_count": 19,
     "metadata": {},
     "output_type": "execute_result"
    }
   ],
   "source": [
    "numbersdf"
   ]
  },
  {
   "cell_type": "code",
   "execution_count": 20,
   "id": "7d6fe5c6-f1d5-4c73-b856-a5b238f0d560",
   "metadata": {
    "tags": []
   },
   "outputs": [
    {
     "data": {
      "text/html": [
       "<div>\n",
       "<style scoped>\n",
       "    .dataframe tbody tr th:only-of-type {\n",
       "        vertical-align: middle;\n",
       "    }\n",
       "\n",
       "    .dataframe tbody tr th {\n",
       "        vertical-align: top;\n",
       "    }\n",
       "\n",
       "    .dataframe thead th {\n",
       "        text-align: right;\n",
       "    }\n",
       "</style>\n",
       "<table border=\"1\" class=\"dataframe\">\n",
       "  <thead>\n",
       "    <tr style=\"text-align: right;\">\n",
       "      <th></th>\n",
       "      <th>hue</th>\n",
       "      <th>sat</th>\n",
       "      <th>lightness</th>\n",
       "    </tr>\n",
       "  </thead>\n",
       "  <tbody>\n",
       "    <tr>\n",
       "      <th>count</th>\n",
       "      <td>6816.000000</td>\n",
       "      <td>6816.000000</td>\n",
       "      <td>6816.000000</td>\n",
       "    </tr>\n",
       "    <tr>\n",
       "      <th>mean</th>\n",
       "      <td>24.863998</td>\n",
       "      <td>0.517515</td>\n",
       "      <td>0.633914</td>\n",
       "    </tr>\n",
       "    <tr>\n",
       "      <th>std</th>\n",
       "      <td>6.046594</td>\n",
       "      <td>0.161520</td>\n",
       "      <td>0.162984</td>\n",
       "    </tr>\n",
       "    <tr>\n",
       "      <th>min</th>\n",
       "      <td>0.000000</td>\n",
       "      <td>0.000000</td>\n",
       "      <td>0.154902</td>\n",
       "    </tr>\n",
       "    <tr>\n",
       "      <th>25%</th>\n",
       "      <td>21.818182</td>\n",
       "      <td>0.405405</td>\n",
       "      <td>0.517647</td>\n",
       "    </tr>\n",
       "    <tr>\n",
       "      <th>50%</th>\n",
       "      <td>25.333333</td>\n",
       "      <td>0.500000</td>\n",
       "      <td>0.662745</td>\n",
       "    </tr>\n",
       "    <tr>\n",
       "      <th>75%</th>\n",
       "      <td>28.387097</td>\n",
       "      <td>0.613361</td>\n",
       "      <td>0.758824</td>\n",
       "    </tr>\n",
       "    <tr>\n",
       "      <th>max</th>\n",
       "      <td>230.400000</td>\n",
       "      <td>1.000000</td>\n",
       "      <td>0.996078</td>\n",
       "    </tr>\n",
       "  </tbody>\n",
       "</table>\n",
       "</div>"
      ],
      "text/plain": [
       "               hue          sat    lightness\n",
       "count  6816.000000  6816.000000  6816.000000\n",
       "mean     24.863998     0.517515     0.633914\n",
       "std       6.046594     0.161520     0.162984\n",
       "min       0.000000     0.000000     0.154902\n",
       "25%      21.818182     0.405405     0.517647\n",
       "50%      25.333333     0.500000     0.662745\n",
       "75%      28.387097     0.613361     0.758824\n",
       "max     230.400000     1.000000     0.996078"
      ]
     },
     "execution_count": 20,
     "metadata": {},
     "output_type": "execute_result"
    }
   ],
   "source": [
    "shadesdf.describe()"
   ]
  },
  {
   "cell_type": "markdown",
   "id": "0ff4f9c7-877c-4e8a-92e4-1a2f427af9bf",
   "metadata": {},
   "source": [
    "Using this summary statistics from the shades dataset, I chose to use the lightness value of 0.634 as a point of distinction between lighter skin tones versus darker skin tones for the purpose of this project as it is the average value for lightness."
   ]
  },
  {
   "cell_type": "code",
   "execution_count": 21,
   "id": "e1affbb0-78f4-4f20-a6ba-1d810762eb9c",
   "metadata": {
    "collapsed": true,
    "jupyter": {
     "outputs_hidden": true
    },
    "tags": []
   },
   "outputs": [
    {
     "data": {
      "text/html": [
       "<div>\n",
       "<style scoped>\n",
       "    .dataframe tbody tr th:only-of-type {\n",
       "        vertical-align: middle;\n",
       "    }\n",
       "\n",
       "    .dataframe tbody tr th {\n",
       "        vertical-align: top;\n",
       "    }\n",
       "\n",
       "    .dataframe thead th {\n",
       "        text-align: right;\n",
       "    }\n",
       "</style>\n",
       "<table border=\"1\" class=\"dataframe\">\n",
       "  <thead>\n",
       "    <tr style=\"text-align: right;\">\n",
       "      <th></th>\n",
       "      <th>lightness</th>\n",
       "    </tr>\n",
       "  </thead>\n",
       "  <tbody>\n",
       "    <tr>\n",
       "      <th>count</th>\n",
       "      <td>5307.000000</td>\n",
       "    </tr>\n",
       "    <tr>\n",
       "      <th>mean</th>\n",
       "      <td>0.634753</td>\n",
       "    </tr>\n",
       "    <tr>\n",
       "      <th>std</th>\n",
       "      <td>0.164431</td>\n",
       "    </tr>\n",
       "    <tr>\n",
       "      <th>min</th>\n",
       "      <td>0.154902</td>\n",
       "    </tr>\n",
       "    <tr>\n",
       "      <th>25%</th>\n",
       "      <td>0.515686</td>\n",
       "    </tr>\n",
       "    <tr>\n",
       "      <th>50%</th>\n",
       "      <td>0.664706</td>\n",
       "    </tr>\n",
       "    <tr>\n",
       "      <th>75%</th>\n",
       "      <td>0.760784</td>\n",
       "    </tr>\n",
       "    <tr>\n",
       "      <th>max</th>\n",
       "      <td>0.996078</td>\n",
       "    </tr>\n",
       "  </tbody>\n",
       "</table>\n",
       "</div>"
      ],
      "text/plain": [
       "         lightness\n",
       "count  5307.000000\n",
       "mean      0.634753\n",
       "std       0.164431\n",
       "min       0.154902\n",
       "25%       0.515686\n",
       "50%       0.664706\n",
       "75%       0.760784\n",
       "max       0.996078"
      ]
     },
     "execution_count": 21,
     "metadata": {},
     "output_type": "execute_result"
    }
   ],
   "source": [
    "categoriesdf.describe()"
   ]
  },
  {
   "cell_type": "code",
   "execution_count": 22,
   "id": "fac0e895-d82d-437e-9795-e81c5f0b9f69",
   "metadata": {
    "collapsed": true,
    "jupyter": {
     "outputs_hidden": true
    },
    "tags": []
   },
   "outputs": [
    {
     "data": {
      "text/html": [
       "<div>\n",
       "<style scoped>\n",
       "    .dataframe tbody tr th:only-of-type {\n",
       "        vertical-align: middle;\n",
       "    }\n",
       "\n",
       "    .dataframe tbody tr th {\n",
       "        vertical-align: top;\n",
       "    }\n",
       "\n",
       "    .dataframe thead th {\n",
       "        text-align: right;\n",
       "    }\n",
       "</style>\n",
       "<table border=\"1\" class=\"dataframe\">\n",
       "  <thead>\n",
       "    <tr style=\"text-align: right;\">\n",
       "      <th></th>\n",
       "      <th>lightness</th>\n",
       "      <th>numbers</th>\n",
       "      <th>id</th>\n",
       "    </tr>\n",
       "  </thead>\n",
       "  <tbody>\n",
       "    <tr>\n",
       "      <th>count</th>\n",
       "      <td>3117.000000</td>\n",
       "      <td>3117.000000</td>\n",
       "      <td>2991.000000</td>\n",
       "    </tr>\n",
       "    <tr>\n",
       "      <th>mean</th>\n",
       "      <td>0.634527</td>\n",
       "      <td>138.628056</td>\n",
       "      <td>66.877299</td>\n",
       "    </tr>\n",
       "    <tr>\n",
       "      <th>std</th>\n",
       "      <td>0.162132</td>\n",
       "      <td>169.755931</td>\n",
       "      <td>38.374610</td>\n",
       "    </tr>\n",
       "    <tr>\n",
       "      <th>min</th>\n",
       "      <td>0.154902</td>\n",
       "      <td>0.000000</td>\n",
       "      <td>1.000000</td>\n",
       "    </tr>\n",
       "    <tr>\n",
       "      <th>25%</th>\n",
       "      <td>0.519608</td>\n",
       "      <td>9.000000</td>\n",
       "      <td>33.000000</td>\n",
       "    </tr>\n",
       "    <tr>\n",
       "      <th>50%</th>\n",
       "      <td>0.666667</td>\n",
       "      <td>42.500000</td>\n",
       "      <td>69.000000</td>\n",
       "    </tr>\n",
       "    <tr>\n",
       "      <th>75%</th>\n",
       "      <td>0.756863</td>\n",
       "      <td>240.000000</td>\n",
       "      <td>99.000000</td>\n",
       "    </tr>\n",
       "    <tr>\n",
       "      <th>max</th>\n",
       "      <td>0.994118</td>\n",
       "      <td>900.000000</td>\n",
       "      <td>130.000000</td>\n",
       "    </tr>\n",
       "  </tbody>\n",
       "</table>\n",
       "</div>"
      ],
      "text/plain": [
       "         lightness      numbers           id\n",
       "count  3117.000000  3117.000000  2991.000000\n",
       "mean      0.634527   138.628056    66.877299\n",
       "std       0.162132   169.755931    38.374610\n",
       "min       0.154902     0.000000     1.000000\n",
       "25%       0.519608     9.000000    33.000000\n",
       "50%       0.666667    42.500000    69.000000\n",
       "75%       0.756863   240.000000    99.000000\n",
       "max       0.994118   900.000000   130.000000"
      ]
     },
     "execution_count": 22,
     "metadata": {},
     "output_type": "execute_result"
    }
   ],
   "source": [
    "numbersdf.describe()"
   ]
  },
  {
   "cell_type": "code",
   "execution_count": 123,
   "id": "b6432454-c688-42aa-b02d-2be86d11c446",
   "metadata": {
    "collapsed": true,
    "jupyter": {
     "outputs_hidden": true
    },
    "tags": []
   },
   "outputs": [
    {
     "data": {
      "text/html": [
       "<div>\n",
       "<style scoped>\n",
       "    .dataframe tbody tr th:only-of-type {\n",
       "        vertical-align: middle;\n",
       "    }\n",
       "\n",
       "    .dataframe tbody tr th {\n",
       "        vertical-align: top;\n",
       "    }\n",
       "\n",
       "    .dataframe thead th {\n",
       "        text-align: right;\n",
       "    }\n",
       "</style>\n",
       "<table border=\"1\" class=\"dataframe\">\n",
       "  <thead>\n",
       "    <tr style=\"text-align: right;\">\n",
       "      <th></th>\n",
       "      <th>brand</th>\n",
       "      <th>product</th>\n",
       "      <th>url</th>\n",
       "      <th>description</th>\n",
       "      <th>imgSrc</th>\n",
       "      <th>imgAlt</th>\n",
       "      <th>name</th>\n",
       "      <th>specific</th>\n",
       "      <th>colorspace</th>\n",
       "      <th>hex</th>\n",
       "      <th>hue</th>\n",
       "      <th>sat</th>\n",
       "      <th>lightness</th>\n",
       "    </tr>\n",
       "  </thead>\n",
       "  <tbody>\n",
       "    <tr>\n",
       "      <th>0</th>\n",
       "      <td>Anastasia Beverly Hills</td>\n",
       "      <td>Luminous Foundation</td>\n",
       "      <td>https://www.ulta.com/luminous-foundation?produ...</td>\n",
       "      <td>355N (medium skin with a neutral golden undert...</td>\n",
       "      <td>https://images.ulta.com/is/image/Ulta/2551437s...</td>\n",
       "      <td>355N (medium skin with a neutral golden undert...</td>\n",
       "      <td>NaN</td>\n",
       "      <td>355N</td>\n",
       "      <td>RGB</td>\n",
       "      <td>#A06F4A</td>\n",
       "      <td>25.813953</td>\n",
       "      <td>0.367521</td>\n",
       "      <td>0.458824</td>\n",
       "    </tr>\n",
       "    <tr>\n",
       "      <th>18</th>\n",
       "      <td>Anastasia Beverly Hills</td>\n",
       "      <td>Luminous Foundation</td>\n",
       "      <td>https://www.ulta.com/luminous-foundation?produ...</td>\n",
       "      <td>310C (medium skin with a cool olive undertone)</td>\n",
       "      <td>https://images.ulta.com/is/image/Ulta/2551597s...</td>\n",
       "      <td>310C (medium skin with a cool olive undertone)</td>\n",
       "      <td>NaN</td>\n",
       "      <td>310C</td>\n",
       "      <td>RGB</td>\n",
       "      <td>#CB9F6D</td>\n",
       "      <td>31.914894</td>\n",
       "      <td>0.474747</td>\n",
       "      <td>0.611765</td>\n",
       "    </tr>\n",
       "    <tr>\n",
       "      <th>19</th>\n",
       "      <td>Anastasia Beverly Hills</td>\n",
       "      <td>Luminous Foundation</td>\n",
       "      <td>https://www.ulta.com/luminous-foundation?produ...</td>\n",
       "      <td>315N (medium skin with a neutral beige undertone)</td>\n",
       "      <td>https://images.ulta.com/is/image/Ulta/2551435s...</td>\n",
       "      <td>315N (medium skin with a neutral beige undertone)</td>\n",
       "      <td>NaN</td>\n",
       "      <td>315N</td>\n",
       "      <td>RGB</td>\n",
       "      <td>#B99371</td>\n",
       "      <td>28.333333</td>\n",
       "      <td>0.339623</td>\n",
       "      <td>0.584314</td>\n",
       "    </tr>\n",
       "    <tr>\n",
       "      <th>20</th>\n",
       "      <td>Anastasia Beverly Hills</td>\n",
       "      <td>Luminous Foundation</td>\n",
       "      <td>https://www.ulta.com/luminous-foundation?produ...</td>\n",
       "      <td>320N (medium skin with a neutral pink undertone)</td>\n",
       "      <td>https://images.ulta.com/is/image/Ulta/2551425s...</td>\n",
       "      <td>320N (medium skin with a neutral pink undertone)</td>\n",
       "      <td>NaN</td>\n",
       "      <td>320N</td>\n",
       "      <td>RGB</td>\n",
       "      <td>#B88C6A</td>\n",
       "      <td>26.153846</td>\n",
       "      <td>0.354545</td>\n",
       "      <td>0.568627</td>\n",
       "    </tr>\n",
       "    <tr>\n",
       "      <th>22</th>\n",
       "      <td>Anastasia Beverly Hills</td>\n",
       "      <td>Luminous Foundation</td>\n",
       "      <td>https://www.ulta.com/luminous-foundation?produ...</td>\n",
       "      <td>330W (medium skin with a warm yellow undertone)</td>\n",
       "      <td>https://images.ulta.com/is/image/Ulta/2551433s...</td>\n",
       "      <td>330W (medium skin with a warm yellow undertone)</td>\n",
       "      <td>NaN</td>\n",
       "      <td>330W</td>\n",
       "      <td>RGB</td>\n",
       "      <td>#B4845F</td>\n",
       "      <td>26.117647</td>\n",
       "      <td>0.361702</td>\n",
       "      <td>0.539216</td>\n",
       "    </tr>\n",
       "    <tr>\n",
       "      <th>...</th>\n",
       "      <td>...</td>\n",
       "      <td>...</td>\n",
       "      <td>...</td>\n",
       "      <td>...</td>\n",
       "      <td>...</td>\n",
       "      <td>...</td>\n",
       "      <td>...</td>\n",
       "      <td>...</td>\n",
       "      <td>...</td>\n",
       "      <td>...</td>\n",
       "      <td>...</td>\n",
       "      <td>...</td>\n",
       "      <td>...</td>\n",
       "    </tr>\n",
       "    <tr>\n",
       "      <th>6809</th>\n",
       "      <td>SEPHORA COLLECTION</td>\n",
       "      <td>Best Skin Ever Liquid Foundation</td>\n",
       "      <td>https://www.sephora.com/product/sephora-collec...</td>\n",
       "      <td>67 P for deep skin with pink undertones</td>\n",
       "      <td>/productimages/sku/s2327039+sw.jpg</td>\n",
       "      <td>67 P 0.84 oz/ 25 mL Sephora Quality Way-Nice P...</td>\n",
       "      <td>P</td>\n",
       "      <td>67</td>\n",
       "      <td>RGB</td>\n",
       "      <td>#7B5739</td>\n",
       "      <td>27.272727</td>\n",
       "      <td>0.366667</td>\n",
       "      <td>0.352941</td>\n",
       "    </tr>\n",
       "    <tr>\n",
       "      <th>6810</th>\n",
       "      <td>SEPHORA COLLECTION</td>\n",
       "      <td>Best Skin Ever Liquid Foundation</td>\n",
       "      <td>https://www.sephora.com/product/sephora-collec...</td>\n",
       "      <td>68 N for deep skin with neutral undertones</td>\n",
       "      <td>/productimages/sku/s2327021+sw.jpg</td>\n",
       "      <td>68 N 0.84 oz/ 25 mL Sephora Quality Way-Nice P...</td>\n",
       "      <td>N</td>\n",
       "      <td>68</td>\n",
       "      <td>RGB</td>\n",
       "      <td>#7A5A3C</td>\n",
       "      <td>29.032258</td>\n",
       "      <td>0.340659</td>\n",
       "      <td>0.356863</td>\n",
       "    </tr>\n",
       "    <tr>\n",
       "      <th>6813</th>\n",
       "      <td>Benefit Cosmetics</td>\n",
       "      <td>Hello Happy Soft Blur Foundation</td>\n",
       "      <td>https://www.sephora.com/product/hello-happy-so...</td>\n",
       "      <td>Shade 11 dark neutral - Selected</td>\n",
       "      <td>/productimages/sku/s2086551+sw.jpg</td>\n",
       "      <td>Shade 11 1 oz/ 30 mL</td>\n",
       "      <td>NaN</td>\n",
       "      <td>Shade 11</td>\n",
       "      <td>RGB</td>\n",
       "      <td>#C9866E</td>\n",
       "      <td>15.824176</td>\n",
       "      <td>0.457286</td>\n",
       "      <td>0.609804</td>\n",
       "    </tr>\n",
       "    <tr>\n",
       "      <th>6814</th>\n",
       "      <td>Urban Decay Cosmetics</td>\n",
       "      <td>Naked Skin Ultra Definition Pressed Finishing ...</td>\n",
       "      <td>https://www.sephora.com/product/naked-skin-ult...</td>\n",
       "      <td>Naked Dark - Selected</td>\n",
       "      <td>/productimages/sku/s1532084+sw.jpg</td>\n",
       "      <td>Naked Dark 0.26 oz/ 7.3 g</td>\n",
       "      <td>Naked Dark</td>\n",
       "      <td>NaN</td>\n",
       "      <td>RGB</td>\n",
       "      <td>#AF7754</td>\n",
       "      <td>23.076923</td>\n",
       "      <td>0.362550</td>\n",
       "      <td>0.507843</td>\n",
       "    </tr>\n",
       "    <tr>\n",
       "      <th>6815</th>\n",
       "      <td>bareMinerals</td>\n",
       "      <td>bareSkin® Pure Brightening Serum Foundation Br...</td>\n",
       "      <td>https://www.sephora.com/product/bareskin-pure-...</td>\n",
       "      <td>Bare Mocha 20 - Selected</td>\n",
       "      <td>/productimages/sku/s1576883+sw.jpg</td>\n",
       "      <td>Bare Mocha 20 1 oz</td>\n",
       "      <td>Bare Mocha</td>\n",
       "      <td>20</td>\n",
       "      <td>RGB</td>\n",
       "      <td>#AF7357</td>\n",
       "      <td>19.090909</td>\n",
       "      <td>0.354839</td>\n",
       "      <td>0.513725</td>\n",
       "    </tr>\n",
       "  </tbody>\n",
       "</table>\n",
       "<p>2922 rows × 13 columns</p>\n",
       "</div>"
      ],
      "text/plain": [
       "                        brand  \\\n",
       "0     Anastasia Beverly Hills   \n",
       "18    Anastasia Beverly Hills   \n",
       "19    Anastasia Beverly Hills   \n",
       "20    Anastasia Beverly Hills   \n",
       "22    Anastasia Beverly Hills   \n",
       "...                       ...   \n",
       "6809       SEPHORA COLLECTION   \n",
       "6810       SEPHORA COLLECTION   \n",
       "6813        Benefit Cosmetics   \n",
       "6814    Urban Decay Cosmetics   \n",
       "6815             bareMinerals   \n",
       "\n",
       "                                                product  \\\n",
       "0                                   Luminous Foundation   \n",
       "18                                  Luminous Foundation   \n",
       "19                                  Luminous Foundation   \n",
       "20                                  Luminous Foundation   \n",
       "22                                  Luminous Foundation   \n",
       "...                                                 ...   \n",
       "6809                   Best Skin Ever Liquid Foundation   \n",
       "6810                   Best Skin Ever Liquid Foundation   \n",
       "6813                   Hello Happy Soft Blur Foundation   \n",
       "6814  Naked Skin Ultra Definition Pressed Finishing ...   \n",
       "6815  bareSkin® Pure Brightening Serum Foundation Br...   \n",
       "\n",
       "                                                    url  \\\n",
       "0     https://www.ulta.com/luminous-foundation?produ...   \n",
       "18    https://www.ulta.com/luminous-foundation?produ...   \n",
       "19    https://www.ulta.com/luminous-foundation?produ...   \n",
       "20    https://www.ulta.com/luminous-foundation?produ...   \n",
       "22    https://www.ulta.com/luminous-foundation?produ...   \n",
       "...                                                 ...   \n",
       "6809  https://www.sephora.com/product/sephora-collec...   \n",
       "6810  https://www.sephora.com/product/sephora-collec...   \n",
       "6813  https://www.sephora.com/product/hello-happy-so...   \n",
       "6814  https://www.sephora.com/product/naked-skin-ult...   \n",
       "6815  https://www.sephora.com/product/bareskin-pure-...   \n",
       "\n",
       "                                            description  \\\n",
       "0     355N (medium skin with a neutral golden undert...   \n",
       "18       310C (medium skin with a cool olive undertone)   \n",
       "19    315N (medium skin with a neutral beige undertone)   \n",
       "20     320N (medium skin with a neutral pink undertone)   \n",
       "22      330W (medium skin with a warm yellow undertone)   \n",
       "...                                                 ...   \n",
       "6809            67 P for deep skin with pink undertones   \n",
       "6810         68 N for deep skin with neutral undertones   \n",
       "6813                   Shade 11 dark neutral - Selected   \n",
       "6814                              Naked Dark - Selected   \n",
       "6815                           Bare Mocha 20 - Selected   \n",
       "\n",
       "                                                 imgSrc  \\\n",
       "0     https://images.ulta.com/is/image/Ulta/2551437s...   \n",
       "18    https://images.ulta.com/is/image/Ulta/2551597s...   \n",
       "19    https://images.ulta.com/is/image/Ulta/2551435s...   \n",
       "20    https://images.ulta.com/is/image/Ulta/2551425s...   \n",
       "22    https://images.ulta.com/is/image/Ulta/2551433s...   \n",
       "...                                                 ...   \n",
       "6809                 /productimages/sku/s2327039+sw.jpg   \n",
       "6810                 /productimages/sku/s2327021+sw.jpg   \n",
       "6813                 /productimages/sku/s2086551+sw.jpg   \n",
       "6814                 /productimages/sku/s1532084+sw.jpg   \n",
       "6815                 /productimages/sku/s1576883+sw.jpg   \n",
       "\n",
       "                                                 imgAlt        name  specific  \\\n",
       "0     355N (medium skin with a neutral golden undert...         NaN      355N   \n",
       "18       310C (medium skin with a cool olive undertone)         NaN      310C   \n",
       "19    315N (medium skin with a neutral beige undertone)         NaN      315N   \n",
       "20     320N (medium skin with a neutral pink undertone)         NaN      320N   \n",
       "22      330W (medium skin with a warm yellow undertone)         NaN      330W   \n",
       "...                                                 ...         ...       ...   \n",
       "6809  67 P 0.84 oz/ 25 mL Sephora Quality Way-Nice P...           P        67   \n",
       "6810  68 N 0.84 oz/ 25 mL Sephora Quality Way-Nice P...           N        68   \n",
       "6813                               Shade 11 1 oz/ 30 mL         NaN  Shade 11   \n",
       "6814                          Naked Dark 0.26 oz/ 7.3 g  Naked Dark       NaN   \n",
       "6815                                 Bare Mocha 20 1 oz  Bare Mocha        20   \n",
       "\n",
       "     colorspace      hex        hue       sat  lightness  \n",
       "0           RGB  #A06F4A  25.813953  0.367521   0.458824  \n",
       "18          RGB  #CB9F6D  31.914894  0.474747   0.611765  \n",
       "19          RGB  #B99371  28.333333  0.339623   0.584314  \n",
       "20          RGB  #B88C6A  26.153846  0.354545   0.568627  \n",
       "22          RGB  #B4845F  26.117647  0.361702   0.539216  \n",
       "...         ...      ...        ...       ...        ...  \n",
       "6809        RGB  #7B5739  27.272727  0.366667   0.352941  \n",
       "6810        RGB  #7A5A3C  29.032258  0.340659   0.356863  \n",
       "6813        RGB  #C9866E  15.824176  0.457286   0.609804  \n",
       "6814        RGB  #AF7754  23.076923  0.362550   0.507843  \n",
       "6815        RGB  #AF7357  19.090909  0.354839   0.513725  \n",
       "\n",
       "[2922 rows x 13 columns]"
      ]
     },
     "execution_count": 123,
     "metadata": {},
     "output_type": "execute_result"
    }
   ],
   "source": [
    "shadesdf[shadesdf.lightness < 0.634] #shades with lightness that are below 0.634"
   ]
  },
  {
   "cell_type": "markdown",
   "id": "2ea87028-a2ce-43d4-8a38-c4e806b7382e",
   "metadata": {},
   "source": [
    "## Range and variety of foundation shades\n"
   ]
  },
  {
   "cell_type": "markdown",
   "id": "c6813133-88dd-49a5-b375-afa80401f9e5",
   "metadata": {},
   "source": [
    "### Histogram of lightness"
   ]
  },
  {
   "cell_type": "code",
   "execution_count": 90,
   "id": "c6ae1f76-fe54-4dab-8e35-127923e0162c",
   "metadata": {
    "tags": []
   },
   "outputs": [
    {
     "data": {
      "text/plain": [
       "<matplotlib.lines.Line2D at 0x7f38b7f40d00>"
      ]
     },
     "execution_count": 90,
     "metadata": {},
     "output_type": "execute_result"
    },
    {
     "data": {
      "image/png": "[encoded data removed]",
      "text/plain": [
       "<Figure size 432x288 with 1 Axes>"
      ]
     },
     "metadata": {
      "needs_background": "light"
     },
     "output_type": "display_data"
    }
   ],
   "source": [
    "shadesdf['lightness'].plot(kind='hist')\n",
    "plt.axvline(x=0.634, color = 'r')"
   ]
  },
  {
   "cell_type": "markdown",
   "id": "1b7af0eb-0f27-4b12-bab8-13ee775fdc58",
   "metadata": {},
   "source": [
    "The histogram of lightness shows that the the two tallest peaks occur around lightness value of 0.7 and 0.8 respectively, which are both considered to be lighter shades as they are bigger than 0.634. The graph is somewhat left-skewed."
   ]
  },
  {
   "cell_type": "markdown",
   "id": "cf5eb012-8586-4171-931c-6d2c387dd0c9",
   "metadata": {},
   "source": [
    "### Shade Range by Brands"
   ]
  },
  {
   "cell_type": "markdown",
   "id": "ca20818d-a816-4d48-a002-e6ff4dfd4439",
   "metadata": {},
   "source": [
    "In order to explore the range of shades different brands offer, I chose to analyze the top and bottom 5 brands in terms of the number of occurrences in the shadesdf dataset. "
   ]
  },
  {
   "cell_type": "code",
   "execution_count": 131,
   "id": "37b8ffd2-900f-4380-91ea-e3c28bffd296",
   "metadata": {},
   "outputs": [
    {
     "data": {
      "text/html": [
       "<div>\n",
       "<style scoped>\n",
       "    .dataframe tbody tr th:only-of-type {\n",
       "        vertical-align: middle;\n",
       "    }\n",
       "\n",
       "    .dataframe tbody tr th {\n",
       "        vertical-align: top;\n",
       "    }\n",
       "\n",
       "    .dataframe thead th {\n",
       "        text-align: right;\n",
       "    }\n",
       "</style>\n",
       "<table border=\"1\" class=\"dataframe\">\n",
       "  <thead>\n",
       "    <tr style=\"text-align: right;\">\n",
       "      <th></th>\n",
       "      <th>brand</th>\n",
       "      <th>lightness</th>\n",
       "    </tr>\n",
       "  </thead>\n",
       "  <tbody>\n",
       "    <tr>\n",
       "      <th>0</th>\n",
       "      <td>Anastasia Beverly Hills</td>\n",
       "      <td>0.458824</td>\n",
       "    </tr>\n",
       "    <tr>\n",
       "      <th>1</th>\n",
       "      <td>Anastasia Beverly Hills</td>\n",
       "      <td>0.901961</td>\n",
       "    </tr>\n",
       "    <tr>\n",
       "      <th>2</th>\n",
       "      <td>Anastasia Beverly Hills</td>\n",
       "      <td>0.900000</td>\n",
       "    </tr>\n",
       "    <tr>\n",
       "      <th>3</th>\n",
       "      <td>Anastasia Beverly Hills</td>\n",
       "      <td>0.809804</td>\n",
       "    </tr>\n",
       "    <tr>\n",
       "      <th>4</th>\n",
       "      <td>Anastasia Beverly Hills</td>\n",
       "      <td>0.750980</td>\n",
       "    </tr>\n",
       "    <tr>\n",
       "      <th>...</th>\n",
       "      <td>...</td>\n",
       "      <td>...</td>\n",
       "    </tr>\n",
       "    <tr>\n",
       "      <th>6811</th>\n",
       "      <td>Lancôme</td>\n",
       "      <td>0.645098</td>\n",
       "    </tr>\n",
       "    <tr>\n",
       "      <th>6812</th>\n",
       "      <td>Antonym</td>\n",
       "      <td>0.654902</td>\n",
       "    </tr>\n",
       "    <tr>\n",
       "      <th>6813</th>\n",
       "      <td>Benefit Cosmetics</td>\n",
       "      <td>0.609804</td>\n",
       "    </tr>\n",
       "    <tr>\n",
       "      <th>6814</th>\n",
       "      <td>Urban Decay Cosmetics</td>\n",
       "      <td>0.507843</td>\n",
       "    </tr>\n",
       "    <tr>\n",
       "      <th>6815</th>\n",
       "      <td>bareMinerals</td>\n",
       "      <td>0.513725</td>\n",
       "    </tr>\n",
       "  </tbody>\n",
       "</table>\n",
       "<p>6816 rows × 2 columns</p>\n",
       "</div>"
      ],
      "text/plain": [
       "                        brand  lightness\n",
       "0     Anastasia Beverly Hills   0.458824\n",
       "1     Anastasia Beverly Hills   0.901961\n",
       "2     Anastasia Beverly Hills   0.900000\n",
       "3     Anastasia Beverly Hills   0.809804\n",
       "4     Anastasia Beverly Hills   0.750980\n",
       "...                       ...        ...\n",
       "6811                  Lancôme   0.645098\n",
       "6812                  Antonym   0.654902\n",
       "6813        Benefit Cosmetics   0.609804\n",
       "6814    Urban Decay Cosmetics   0.507843\n",
       "6815             bareMinerals   0.513725\n",
       "\n",
       "[6816 rows x 2 columns]"
      ]
     },
     "execution_count": 131,
     "metadata": {},
     "output_type": "execute_result"
    }
   ],
   "source": [
    "shadesdf[['brand','lightness']]"
   ]
  },
  {
   "cell_type": "code",
   "execution_count": 138,
   "id": "13267150-2e6a-4b04-9dc1-a7cd69d7eb9b",
   "metadata": {},
   "outputs": [
    {
     "data": {
      "text/plain": [
       "brand\n",
       "AMOREPACIFIC                 5\n",
       "Almay                       20\n",
       "Anastasia Beverly Hills     54\n",
       "Antonym                      7\n",
       "Armani Beauty              129\n",
       "                          ... \n",
       "florence by mills           15\n",
       "jane iredale                57\n",
       "lilah b.                     5\n",
       "rms beauty                  32\n",
       "surratt beauty              14\n",
       "Name: brand, Length: 107, dtype: int64"
      ]
     },
     "execution_count": 138,
     "metadata": {},
     "output_type": "execute_result"
    }
   ],
   "source": [
    "shadesdf.groupby('brand')['brand'].count()"
   ]
  },
  {
   "cell_type": "code",
   "execution_count": 133,
   "id": "6e0e8c8f-76f6-42b2-8e22-020982c42d57",
   "metadata": {},
   "outputs": [
    {
     "data": {
      "text/plain": [
       "['COOLA',\n",
       " 'Marc Jacobs Beauty',\n",
       " 'Dr. Dennis Gross Skincare',\n",
       " 'KIKO Milano',\n",
       " 'Black Up',\n",
       " 'bareMinerals',\n",
       " 'Tarte',\n",
       " 'Clinique',\n",
       " 'SEPHORA COLLECTION',\n",
       " 'MAC']"
      ]
     },
     "execution_count": 133,
     "metadata": {},
     "output_type": "execute_result"
    }
   ],
   "source": [
    "brand = list(shadesdf.groupby('brand')['brand'].count().sort_values(ascending=False)[-5:].index) + list(shadesdf.groupby('brand')['brand'].count().sort_values(ascending=False)[:5].index)\n",
    "brand"
   ]
  },
  {
   "cell_type": "code",
   "execution_count": 140,
   "id": "85655b94-59fb-4eea-ad73-bd95101b2d66",
   "metadata": {
    "tags": []
   },
   "outputs": [],
   "source": [
    "one=shadesdf[shadesdf.brand == 'COOLA']\n",
    "two=one.append(shadesdf[shadesdf.brand == 'Marc Jacobs Beauty'])\n",
    "three=two.append(shadesdf[shadesdf.brand == 'Dr. Dennis Gross Skincare'])\n",
    "four=three.append(shadesdf[shadesdf.brand == 'KIKO Milano'])\n",
    "five=four.append(shadesdf[shadesdf.brand == 'Black Up'])\n",
    "six=five.append(shadesdf[shadesdf.brand == 'bareMinerals'])\n",
    "seven=six.append(shadesdf[shadesdf.brand == 'Tarte'])\n",
    "eight=seven.append(shadesdf[shadesdf.brand == 'Clinique'])\n",
    "nine=eight.append(shadesdf[shadesdf.brand == 'SEPHORA COLLECTION'])\n",
    "ten=nine.append(shadesdf[shadesdf.brand == 'MAC']) #dataframe that only includes the 10 brands "
   ]
  },
  {
   "cell_type": "code",
   "execution_count": 141,
   "id": "603ac817-8179-4ac5-9bbd-2c26aca91b5b",
   "metadata": {},
   "outputs": [
    {
     "data": {
      "text/plain": [
       "<AxesSubplot:title={'center':'lightness'}, xlabel='[brand]'>"
      ]
     },
     "execution_count": 141,
     "metadata": {},
     "output_type": "execute_result"
    },
    {
     "data": {
      "image/png": "[encoded data removed]",
      "text/plain": [
       "<Figure size 1440x720 with 1 Axes>"
      ]
     },
     "metadata": {
      "needs_background": "light"
     },
     "output_type": "display_data"
    }
   ],
   "source": [
    "ten[['brand','lightness']].boxplot(by='brand', figsize=(20,10))"
   ]
  },
  {
   "cell_type": "markdown",
   "id": "ce1d1d1f-3aa4-46a6-8a8c-4bc024b7ef7b",
   "metadata": {},
   "source": [
    "The boxplots above show the Clinique has the widest range of shades while Black Up has the narrowest range of shades. Brands such as 'Clinique', 'Sephora Collection', 'Tarte', 'bareMinerals' offer a wide variety of shades, while brands such as 'Dr. Dennis Gross Skincare', 'Marc Jacobs Beauty' only offer shades within a limited range. "
   ]
  },
  {
   "cell_type": "markdown",
   "id": "b6c7904b-c952-44c0-9400-fd4ce14971bd",
   "metadata": {},
   "source": [
    "## Trends in Labeling System"
   ]
  },
  {
   "cell_type": "markdown",
   "id": "933ee5eb-280a-414e-8d51-cb0d3611592c",
   "metadata": {
    "tags": []
   },
   "source": [
    "#### 2. brands & their mean foundation shades "
   ]
  },
  {
   "cell_type": "markdown",
   "id": "d60fc521-1258-4929-9009-5c588f76f800",
   "metadata": {
    "tags": []
   },
   "source": [
    "instead of mean foundation shades, i would like to change this graph into range (subtract the brand's lowest lightness shade from highest lightness shade) "
   ]
  },
  {
   "cell_type": "code",
   "execution_count": 25,
   "id": "d668750e-8791-43ac-99ab-8410e1f39f64",
   "metadata": {
    "collapsed": true,
    "jupyter": {
     "outputs_hidden": true
    },
    "tags": []
   },
   "outputs": [
    {
     "data": {
      "text/plain": [
       "<AxesSubplot:ylabel='brand'>"
      ]
     },
     "execution_count": 25,
     "metadata": {},
     "output_type": "execute_result"
    },
    {
     "data": {
      "image/png": "[encoded data removed]",
      "text/plain": [
       "<Figure size 864x1440 with 1 Axes>"
      ]
     },
     "metadata": {
      "needs_background": "light"
     },
     "output_type": "display_data"
    }
   ],
   "source": [
    "w = shadesdf.groupby('brand')\n",
    "w2 = w[['lightness']].mean()\n",
    "w2.sort_values(by='lightness', ascending=False).plot(kind='barh', figsize=(12,20) )"
   ]
  },
  {
   "cell_type": "markdown",
   "id": "31d08081-fd5f-4b72-9c0a-6d960c4902c5",
   "metadata": {
    "tags": []
   },
   "source": [
    "*feedback: it would be useful to reduce the size and/or to change the color of all bars that are greater than 0.5 so that your point can be more clearly conveyed*"
   ]
  },
  {
   "cell_type": "markdown",
   "id": "9d0185db-bc5c-44e7-8a03-3116b111ef3d",
   "metadata": {},
   "source": [
    "### Line Plot of Lightness and Numbering System"
   ]
  },
  {
   "cell_type": "code",
   "execution_count": 91,
   "id": "e59314b5-8151-4511-a8b4-c75ebd5a434c",
   "metadata": {
    "tags": []
   },
   "outputs": [
    {
     "data": {
      "text/plain": [
       "<matplotlib.lines.Line2D at 0x7f38bc8c08e0>"
      ]
     },
     "execution_count": 91,
     "metadata": {},
     "output_type": "execute_result"
    },
    {
     "data": {
      "image/png": "[encoded data removed]",
      "text/plain": [
       "<Figure size 2880x360 with 1 Axes>"
      ]
     },
     "metadata": {
      "needs_background": "light"
     },
     "output_type": "display_data"
    }
   ],
   "source": [
    "n = numbersdf[['lightness', 'numbers']].groupby('numbers').mean()\n",
    "n.plot(figsize = (40,5))\n",
    "plt.axhline(y = 0.634, color = 'r') "
   ]
  },
  {
   "cell_type": "markdown",
   "id": "a3b10173-fb8a-4b69-94f7-2798a7d1f967",
   "metadata": {},
   "source": [
    "This x-axis of this plot shows the numbers that are used when labeling their shades. The y-axis of this plot shows the lightness of a shade. For example, if a brand labels its lighter shades as lower numbers and darker shades as higher numbers, that would indicate that the brand organized the shades from lighter to darker shades. As the graph shows, most of the higher numbers are used to label darker shades. "
   ]
  },
  {
   "cell_type": "markdown",
   "id": "8def580c-1b87-49d2-a117-2757050b027d",
   "metadata": {},
   "source": [
    "### Scatterplot of correlation between lightness and shade numbers"
   ]
  },
  {
   "cell_type": "code",
   "execution_count": 27,
   "id": "c406de68-f849-4ecc-88c5-392d52ec5710",
   "metadata": {
    "tags": []
   },
   "outputs": [
    {
     "data": {
      "text/plain": [
       "<AxesSubplot:xlabel='lightness', ylabel='numbers'>"
      ]
     },
     "execution_count": 27,
     "metadata": {},
     "output_type": "execute_result"
    },
    {
     "data": {
      "image/png": "[encoded data removed]",
      "text/plain": [
       "<Figure size 432x288 with 1 Axes>"
      ]
     },
     "metadata": {
      "needs_background": "light"
     },
     "output_type": "display_data"
    }
   ],
   "source": [
    "numbersdf.plot(kind='scatter',\n",
    "        x='lightness',\n",
    "        y='numbers')"
   ]
  },
  {
   "cell_type": "code",
   "execution_count": 55,
   "id": "614e8abd-7a4c-40f6-a042-2f46f8a5b5f5",
   "metadata": {
    "tags": []
   },
   "outputs": [
    {
     "data": {
      "text/html": [
       "<div>\n",
       "<style scoped>\n",
       "    .dataframe tbody tr th:only-of-type {\n",
       "        vertical-align: middle;\n",
       "    }\n",
       "\n",
       "    .dataframe tbody tr th {\n",
       "        vertical-align: top;\n",
       "    }\n",
       "\n",
       "    .dataframe thead th {\n",
       "        text-align: right;\n",
       "    }\n",
       "</style>\n",
       "<table border=\"1\" class=\"dataframe\">\n",
       "  <thead>\n",
       "    <tr style=\"text-align: right;\">\n",
       "      <th></th>\n",
       "      <th>lightness</th>\n",
       "      <th>numbers</th>\n",
       "    </tr>\n",
       "  </thead>\n",
       "  <tbody>\n",
       "    <tr>\n",
       "      <th>lightness</th>\n",
       "      <td>1.000000</td>\n",
       "      <td>-0.259673</td>\n",
       "    </tr>\n",
       "    <tr>\n",
       "      <th>numbers</th>\n",
       "      <td>-0.259673</td>\n",
       "      <td>1.000000</td>\n",
       "    </tr>\n",
       "  </tbody>\n",
       "</table>\n",
       "</div>"
      ],
      "text/plain": [
       "           lightness   numbers\n",
       "lightness   1.000000 -0.259673\n",
       "numbers    -0.259673  1.000000"
      ]
     },
     "execution_count": 55,
     "metadata": {},
     "output_type": "execute_result"
    }
   ],
   "source": [
    "numbersdf[['lightness','numbers']].corr() "
   ]
  },
  {
   "cell_type": "markdown",
   "id": "8ddf2abb-f87f-411e-8d8b-355e54352234",
   "metadata": {},
   "source": [
    "There is a weak negative correlation between 'lightness' and 'numbers', which somewhat confirms that the higher the lightness, the lower the number used to label the shade. However, it is not strong enough of a correlation to conclude there is a definite trend in which lighter shades are labeled first. "
   ]
  },
  {
   "cell_type": "markdown",
   "id": "5ca1285e-876c-4066-abfe-c69e06cf748f",
   "metadata": {},
   "source": [
    "## Language of Foundation Shades"
   ]
  },
  {
   "cell_type": "markdown",
   "id": "b1b737a6-07c0-406e-8376-ac0bd1603721",
   "metadata": {},
   "source": [
    "### Breaking down the categories"
   ]
  },
  {
   "cell_type": "markdown",
   "id": "5bf660d2-41fb-456b-9be7-647756a438ed",
   "metadata": {},
   "source": [
    "In order to explore the trends in the language of labeling various foundation shades, I plotted a histogram showing the distribution of shades for each category. "
   ]
  },
  {
   "cell_type": "markdown",
   "id": "c3c4070c-bbd0-4560-aa61-f7307109bea8",
   "metadata": {},
   "source": [
    "#### Animal"
   ]
  },
  {
   "cell_type": "code",
   "execution_count": 147,
   "id": "f9ab43c1-a01b-4afc-af90-664b8b29eb5e",
   "metadata": {
    "tags": []
   },
   "outputs": [
    {
     "data": {
      "text/plain": [
       "Text(0.5, 0, 'Lightness')"
      ]
     },
     "execution_count": 147,
     "metadata": {},
     "output_type": "execute_result"
    },
    {
     "data": {
      "image/png": "[encoded data removed]",
      "text/plain": [
       "<Figure size 432x288 with 1 Axes>"
      ]
     },
     "metadata": {
      "needs_background": "light"
     },
     "output_type": "display_data"
    }
   ],
   "source": [
    "animal = categoriesdf.loc[categoriesdf['categories'].str.contains('animal')]\n",
    "animal.hist(column='lightness')\n",
    "plt.axvline(x=0.634, color = 'r')\n",
    "plt.title('Animal')\n",
    "plt.ylabel('Frequency')\n",
    "plt.xlabel('Lightness')"
   ]
  },
  {
   "cell_type": "markdown",
   "id": "7599187b-5cf7-465f-81d3-02ffc495b4c0",
   "metadata": {},
   "source": [
    "The histogram shows that the category of animal was most frequently used to label shades between 0.6 and 0.7."
   ]
  },
  {
   "cell_type": "code",
   "execution_count": 148,
   "id": "42fb5e3f-c8ce-4fd3-bb3a-8de270f60840",
   "metadata": {
    "tags": []
   },
   "outputs": [
    {
     "data": {
      "text/plain": [
       "Text(0.5, 0, 'Lightness')"
      ]
     },
     "execution_count": 148,
     "metadata": {},
     "output_type": "execute_result"
    },
    {
     "data": {
      "image/png": "[encoded data removed]",
      "text/plain": [
       "<Figure size 432x288 with 1 Axes>"
      ]
     },
     "metadata": {
      "needs_background": "light"
     },
     "output_type": "display_data"
    }
   ],
   "source": [
    "color = categoriesdf.loc[categoriesdf['categories'].str.contains('color')]\n",
    "color.hist(column='lightness')\n",
    "plt.axvline(x=0.634, color = 'r')\n",
    "plt.title('Color')\n",
    "plt.ylabel('Frequency')\n",
    "plt.xlabel('Lightness')"
   ]
  },
  {
   "cell_type": "markdown",
   "id": "e37c81c9-7222-4f63-bac0-5f78d15e791b",
   "metadata": {},
   "source": [
    "The histogram shows that animals were most frequently used to label shades between 0.6 and 0.7."
   ]
  },
  {
   "cell_type": "code",
   "execution_count": 149,
   "id": "a8eaaac2-7d6e-4943-905c-46c53ff9a234",
   "metadata": {},
   "outputs": [
    {
     "data": {
      "text/plain": [
       "Text(0.5, 0, 'Lightness')"
      ]
     },
     "execution_count": 149,
     "metadata": {},
     "output_type": "execute_result"
    },
    {
     "data": {
      "image/png": "[encoded data removed]",
      "text/plain": [
       "<Figure size 432x288 with 1 Axes>"
      ]
     },
     "metadata": {
      "needs_background": "light"
     },
     "output_type": "display_data"
    }
   ],
   "source": [
    "compliment = categoriesdf.loc[categoriesdf['categories'].str.contains('compliment')]\n",
    "compliment.hist(column='lightness')\n",
    "plt.axvline(x=0.634, color = 'r')\n",
    "plt.title('Compliment')\n",
    "plt.ylabel('Frequency')\n",
    "plt.xlabel('Lightness')"
   ]
  },
  {
   "cell_type": "markdown",
   "id": "777da149-b50a-492d-9735-04d5fc32a988",
   "metadata": {},
   "source": [
    "The histogram shows that compliments were most frequently used to label shades between 0.65 and 0.75. *Not many shades that fall under the category of darker shades were labeled with compliments*"
   ]
  },
  {
   "cell_type": "code",
   "execution_count": 172,
   "id": "14bbb638-9beb-462f-a5f5-65ea4abb4554",
   "metadata": {},
   "outputs": [
    {
     "data": {
      "text/plain": [
       "(array(['beautiful bronze', 'radiant honey', 'classic beige',\n",
       "        'classic tan', 'classic tan/cappuccino', 'classic ivory',\n",
       "        'gratitude', 'harmony', 'honest', 'honour', 'intuitive', 'joy',\n",
       "        'kind', 'legendary', 'loveable', 'magical', 'masterful',\n",
       "        'powerful', 'soulful', 'spirited', 'strong', 'warrior', 'wise',\n",
       "        'reverent', 'unstoppable'], dtype=object),\n",
       " array(['classic ivory', 'classic beige', 'perfect beige', 'radiant sand',\n",
       "        'radiant', 'pure beige', 'classic tan', 'radiant honey',\n",
       "        'radiant sun', 'classic alabaster', 'amazing', 'beautiful',\n",
       "        'brave', 'bright', 'brilliant', 'charismatic', 'creative',\n",
       "        'daring', 'determined', 'energetic', 'fabulous', 'fearless',\n",
       "        'generous', 'geniune', 'gifted', 'glorious', 'grace',\n",
       "        'radiant tan', 'dynamic', 'mystical', 'juicy', 'classic', 'pure',\n",
       "        'timeless'], dtype=object))"
      ]
     },
     "execution_count": 172,
     "metadata": {},
     "output_type": "execute_result"
    }
   ],
   "source": [
    "c = compliment[compliment.lightness < 0.634]\n",
    "compliment1 = c.name.unique()\n",
    "d = compliment[compliment.lightness > 0.634]\n",
    "compliment2 = d.name.unique()\n",
    "compliment1, compliment2"
   ]
  },
  {
   "cell_type": "code",
   "execution_count": 173,
   "id": "a4422853-05da-4f51-9070-50a0b2867c58",
   "metadata": {},
   "outputs": [
    {
     "data": {
      "text/plain": [
       "(brand         40\n",
       " product       40\n",
       " url           40\n",
       " imgSrc        40\n",
       " name          40\n",
       " categories    40\n",
       " specific      23\n",
       " hex           40\n",
       " lightness     40\n",
       " dtype: int64,\n",
       " brand         57\n",
       " product       57\n",
       " url           57\n",
       " imgSrc        57\n",
       " name          57\n",
       " categories    57\n",
       " specific      34\n",
       " hex           57\n",
       " lightness     57\n",
       " dtype: int64)"
      ]
     },
     "execution_count": 173,
     "metadata": {},
     "output_type": "execute_result"
    }
   ],
   "source": [
    "c.count(), d.count()"
   ]
  },
  {
   "cell_type": "code",
   "execution_count": 150,
   "id": "466406cd-bb6a-4115-900b-1ba10905447f",
   "metadata": {
    "tags": []
   },
   "outputs": [
    {
     "data": {
      "text/plain": [
       "Text(0.5, 0, 'Lightness')"
      ]
     },
     "execution_count": 150,
     "metadata": {},
     "output_type": "execute_result"
    },
    {
     "data": {
      "image/png": "[encoded data removed]",
      "text/plain": [
       "<Figure size 432x288 with 1 Axes>"
      ]
     },
     "metadata": {
      "needs_background": "light"
     },
     "output_type": "display_data"
    }
   ],
   "source": [
    "descriptor = categoriesdf.loc[categoriesdf['categories'].str.contains('descriptor')]\n",
    "descriptor.hist(column='lightness')\n",
    "plt.axvline(x=0.634, color = 'r')\n",
    "plt.title('Descriptor')\n",
    "plt.ylabel('Frequency')\n",
    "plt.xlabel('Lightness')"
   ]
  },
  {
   "cell_type": "markdown",
   "id": "32cd31a9-c6af-462c-99ca-f193d9aa9635",
   "metadata": {},
   "source": [
    "Descriptors were most frequently used to label shades of lightness value of 0.7. "
   ]
  },
  {
   "cell_type": "code",
   "execution_count": 151,
   "id": "ea65a117-4171-4c89-a4f9-5671114ae2f8",
   "metadata": {},
   "outputs": [
    {
     "data": {
      "text/plain": [
       "Text(0.5, 0, 'Lightness')"
      ]
     },
     "execution_count": 151,
     "metadata": {},
     "output_type": "execute_result"
    },
    {
     "data": {
      "image/png": "[encoded data removed]",
      "text/plain": [
       "<Figure size 432x288 with 1 Axes>"
      ]
     },
     "metadata": {
      "needs_background": "light"
     },
     "output_type": "display_data"
    }
   ],
   "source": [
    "drink = categoriesdf.loc[categoriesdf['categories'].str.contains('drink')]\n",
    "drink.hist(column='lightness')\n",
    "plt.axvline(x=0.634, color = 'r')\n",
    "plt.title('Drink')\n",
    "plt.ylabel('Frequency')\n",
    "plt.xlabel('Lightness')"
   ]
  },
  {
   "cell_type": "markdown",
   "id": "ab53ce53-73b9-4f3c-9297-3db35b352ce0",
   "metadata": {},
   "source": [
    "This histogram has a noticeably different shape compared to the previous ones. It shows that drinks were commonly used to name shades with lightness values that are equal to or lower than 0.5"
   ]
  },
  {
   "cell_type": "code",
   "execution_count": 99,
   "id": "200102e6-0e52-45c4-af28-3625a9d8b529",
   "metadata": {
    "tags": []
   },
   "outputs": [
    {
     "data": {
      "text/plain": [
       "(array(['café', 'mocha', 'espresso', 'chai', 'spice rum', 'cappuccino',\n",
       "        'suede mocha', 'java', 'coffee', 'light espresso', 'dark espresso',\n",
       "        'latte', 'cognac', 'rich mocha', 'rich java', 'expresso',\n",
       "        'cream beige', 'creme cafe', 'spiced latte', 'hot chocolate',\n",
       "        'café brown', 'classic tan/cappuccino', 'spiced rum', 'crème café',\n",
       "        'creamy tan', 'creamy cocoa', 'cafe au lait', 'toasted chai',\n",
       "        'warm mocha', 'nude mocha', 'deep espresso', 'hint of cappuccino',\n",
       "        'hint of mocha', 'hint of espresso', 'espresso beige',\n",
       "        'latte macchiato beige', 'deep mocha', 'neutral champagne',\n",
       "        'cool chai', 'rich espresso', 'intense java', 'coffee bean', 'tea',\n",
       "        'macchiato', 'tan café latte', 'light cream', 'neutral mocha',\n",
       "        'mocha spice', 'mocha java', 'cool espresso', 'warm coffee',\n",
       "        'brandy', 'light mocha', 'silk brandy', 'bare mocha'], dtype=object),\n",
       " array(['crème', 'latte', 'chai', 'cappucino', 'mocha', 'cream',\n",
       "        'creamy nude', 'creamy vanilla', 'creamy natural', 'matte cream',\n",
       "        'cream ivory', 'tea', 'buttermilk', 'creamy beige', 'soft chai',\n",
       "        'hint of crème', 'hint of latte', 'cream beige', 'cognac',\n",
       "        'coffee', 'pink cream', 'light cream', 'peach cream', 'milkshake',\n",
       "        'macchiato', 'milk', 'champagne', 'cool milk', 'milky peach',\n",
       "        'café'], dtype=object))"
      ]
     },
     "execution_count": 99,
     "metadata": {},
     "output_type": "execute_result"
    }
   ],
   "source": [
    "a = drink[drink.lightness < 0.634]\n",
    "drinktype1 = a.name.unique()\n",
    "b = drink[drink.lightness > 0.634]\n",
    "drinktype2 = b.name.unique()\n",
    "drinktype1, drinktype2"
   ]
  },
  {
   "cell_type": "markdown",
   "id": "6b4c4bf2-45c6-484c-a27b-961999a2d685",
   "metadata": {},
   "source": [
    "This shows that a lot of darker shades are labeled with the terms 'mocha', 'espresso'."
   ]
  },
  {
   "cell_type": "code",
   "execution_count": 36,
   "id": "fac01ea3-e1e4-4ade-84a2-1db1874ee869",
   "metadata": {
    "tags": []
   },
   "outputs": [
    {
     "data": {
      "text/plain": [
       "(brand         215\n",
       " product       215\n",
       " url           215\n",
       " imgSrc        215\n",
       " name          215\n",
       " categories    215\n",
       " specific      126\n",
       " hex           215\n",
       " lightness     215\n",
       " dtype: int64,\n",
       " brand         63\n",
       " product       63\n",
       " url           63\n",
       " imgSrc        63\n",
       " name          63\n",
       " categories    63\n",
       " specific      28\n",
       " hex           63\n",
       " lightness     63\n",
       " dtype: int64)"
      ]
     },
     "execution_count": 36,
     "metadata": {},
     "output_type": "execute_result"
    }
   ],
   "source": [
    "a.count(), b.count()"
   ]
  },
  {
   "cell_type": "markdown",
   "id": "84bd4ac6-2eaf-4a5a-b716-7d69c2949c99",
   "metadata": {},
   "source": [
    "These counts indicate that darker shades are labeled with drinks more than three times frequently than  the lighter shades."
   ]
  },
  {
   "cell_type": "code",
   "execution_count": 152,
   "id": "49d5a5c9-fa7e-4079-b823-5b63ecdc9228",
   "metadata": {
    "tags": []
   },
   "outputs": [
    {
     "data": {
      "text/plain": [
       "Text(0.5, 0, 'Lightness')"
      ]
     },
     "execution_count": 152,
     "metadata": {},
     "output_type": "execute_result"
    },
    {
     "data": {
      "image/png": "[encoded data removed]",
      "text/plain": [
       "<Figure size 432x288 with 1 Axes>"
      ]
     },
     "metadata": {
      "needs_background": "light"
     },
     "output_type": "display_data"
    }
   ],
   "source": [
    "food = categoriesdf.loc[categoriesdf['categories'].str.contains('food')]\n",
    "food.hist(column='lightness')\n",
    "plt.axvline(x=0.634, color = 'r')\n",
    "plt.title('Food')\n",
    "plt.ylabel('Frequency')\n",
    "plt.xlabel('Lightness')"
   ]
  },
  {
   "cell_type": "markdown",
   "id": "2adf939e-4b44-435f-ada7-928150cb8f4b",
   "metadata": {},
   "source": [
    "Foods are most frequently used to label shades with lightness values between 0.6 and 0.7."
   ]
  },
  {
   "cell_type": "code",
   "execution_count": 153,
   "id": "161532a4-46e7-4595-b19c-e9148966deef",
   "metadata": {
    "tags": []
   },
   "outputs": [
    {
     "data": {
      "text/plain": [
       "Text(0.5, 0, 'Lightness')"
      ]
     },
     "execution_count": 153,
     "metadata": {},
     "output_type": "execute_result"
    },
    {
     "data": {
      "image/png": "[encoded data removed]",
      "text/plain": [
       "<Figure size 432x288 with 1 Axes>"
      ]
     },
     "metadata": {
      "needs_background": "light"
     },
     "output_type": "display_data"
    }
   ],
   "source": [
    "gem = categoriesdf.loc[categoriesdf['categories'].str.contains('gem')]\n",
    "gem.hist(column='lightness')\n",
    "plt.axvline(x=0.634, color = 'r')\n",
    "plt.title('Gem')\n",
    "plt.ylabel('Frequency')\n",
    "plt.xlabel('Lightness')"
   ]
  },
  {
   "cell_type": "markdown",
   "id": "cc109087-72c1-4535-9d7a-0abfcc56bd70",
   "metadata": {},
   "source": [
    "This histogram also has a relatively distinct shape which is left-skewed. This indicates that many shades that are labeled using gems are clustered at the higher end of the lightness scale. The graph shows that gems are most frequently used to label shades with lightness value of about 0.8."
   ]
  },
  {
   "cell_type": "code",
   "execution_count": 102,
   "id": "e38d27db-d08b-4569-821f-3e0730309875",
   "metadata": {},
   "outputs": [
    {
     "data": {
      "text/plain": [
       "(array(['amber', 'true ivory', 'golden amber', 'truly topaz',\n",
       "        'natural amber', 'deep amber', 'amber honey', 'amber beige',\n",
       "        'shell beige', 'fresh amber', 'classic ivory', 'ivory beige',\n",
       "        'ivory rose', 'black pearl', 'warm ivory', 'warm amber',\n",
       "        'rich amber', 'neutral amber', 'cool amber', 'cool ivory',\n",
       "        'jasper', 'obsidian', 'neutral ivory', 'sunny amber', 'citrine'],\n",
       "       dtype=object),\n",
       " array(['shell', 'alabaster', 'ivory', 'ivoire', 'seashell', 'pearl',\n",
       "        'light ivory', 'golden ivory', 'classic ivory', 'natural ivory',\n",
       "        'neutral ivory', 'fair ivory', 'warm ivory', 'ivory buff',\n",
       "        'matte ivory', 'opal', 'amber', 'pale ivory', 'ivory nude',\n",
       "        'cool bone', 'ivory beige', 'shell beige', 'shell bisque',\n",
       "        'shell ivory', 'soft ivory', 'nude ivory', 'rose ivory',\n",
       "        'fresh ivory', 'cream ivory', 'bone', 'fresh alabaster',\n",
       "        'porcelain ivory', 'soft ivory/classic ivory', 'true alabaster',\n",
       "        'fairy ivory', 'rose pearl', 'beige ivory', 'white pearl',\n",
       "        'classic alabaster', 'cool shell', 'warm shell', 'golden shell',\n",
       "        'hint of ivory', 'pink alabaster', 'yellow alabaster', 'marble',\n",
       "        'amber honey', 'cool ivory', 'ivory silk', 'ivory rose', 'quartz',\n",
       "        'citrine', 'topaz', 'vanille ivory', 'medium ivory', 'cool amber',\n",
       "        'deep golden amber', 'rosy ivory', 'amber wram', 'amber cool',\n",
       "        'abundant alabaster', 'intense ivory', 'lightest alabaster',\n",
       "        'silk shell'], dtype=object))"
      ]
     },
     "execution_count": 102,
     "metadata": {},
     "output_type": "execute_result"
    }
   ],
   "source": [
    "e = gem[gem.lightness < 0.634]\n",
    "gem1 = e.name.unique()\n",
    "f = gem[gem.lightness > 0.634]\n",
    "gem2 = f.name.unique()\n",
    "gem1, gem2"
   ]
  },
  {
   "cell_type": "code",
   "execution_count": 103,
   "id": "a6bb20a4-dafd-40ba-a5fe-a4ae0e77f23f",
   "metadata": {
    "tags": []
   },
   "outputs": [
    {
     "data": {
      "text/plain": [
       "(brand         84\n",
       " product       84\n",
       " url           84\n",
       " imgSrc        84\n",
       " name          84\n",
       " categories    84\n",
       " specific      52\n",
       " hex           84\n",
       " lightness     84\n",
       " dtype: int64,\n",
       " brand         368\n",
       " product       368\n",
       " url           368\n",
       " imgSrc        368\n",
       " name          368\n",
       " categories    368\n",
       " specific      223\n",
       " hex           368\n",
       " lightness     368\n",
       " dtype: int64)"
      ]
     },
     "execution_count": 103,
     "metadata": {},
     "output_type": "execute_result"
    }
   ],
   "source": [
    "e.count(), f.count()"
   ]
  },
  {
   "cell_type": "markdown",
   "id": "093c025e-2d2c-4e25-8749-22f7bf00700b",
   "metadata": {},
   "source": [
    "The number of lighter shades that are named using gems are almost four times more than the number of darkers shades that named using gems."
   ]
  },
  {
   "cell_type": "code",
   "execution_count": 154,
   "id": "12ecc361-242f-41b3-a58f-827e1cf9a193",
   "metadata": {
    "tags": []
   },
   "outputs": [
    {
     "data": {
      "text/plain": [
       "Text(0.5, 0, 'Lightness')"
      ]
     },
     "execution_count": 154,
     "metadata": {},
     "output_type": "execute_result"
    },
    {
     "data": {
      "image/png": "[encoded data removed]",
      "text/plain": [
       "<Figure size 432x288 with 1 Axes>"
      ]
     },
     "metadata": {
      "needs_background": "light"
     },
     "output_type": "display_data"
    }
   ],
   "source": [
    "location = categoriesdf.loc[categoriesdf['categories'].str.contains('location')]\n",
    "location.hist(column='lightness')\n",
    "plt.axvline(x=0.634, color = 'r')\n",
    "plt.title('Location')\n",
    "plt.ylabel('Frequency')\n",
    "plt.xlabel('Lightness')"
   ]
  },
  {
   "cell_type": "code",
   "execution_count": 105,
   "id": "fbb67906-963a-4e43-af51-d858423abeaf",
   "metadata": {
    "collapsed": true,
    "jupyter": {
     "outputs_hidden": true
    },
    "tags": []
   },
   "outputs": [
    {
     "data": {
      "text/plain": [
       "(array(['tonka', 'tahoe', 'moorea', 'huahine', 'cadiz', 'caracas', 'belem',\n",
       "        'macao', 'marquises', 'manaus', 'new caledonia', 'iguacu',\n",
       "        'namibia', 'zambie', 'mali', 'syracuse', 'kalahari sand',\n",
       "        'mallorca', 'kapua', 'mumbai', 'cali', 'punaluu', 'goa', 'sudan',\n",
       "        'senegal', 'chad', 'angola', 'kano', 'kenya', 'tanzania', 'togo',\n",
       "        'dakar', 'malawi', 'lagos', 'gabon', 'burkina', 'zaria', 'accra',\n",
       "        'kampala', 'somalia', 'ethiopia', 'nairobi', 'havana', 'rio',\n",
       "        'punta cana', 'savanna', 'casablanca', 'aruba', 'tangier',\n",
       "        'matira', 'kokkini', 'dominica', 'porto covo', 'pavones', 'miho',\n",
       "        'roque', 'zambia', 'vanuatu', 'seychelles', 'polynesia', 'cuzco',\n",
       "        'martinique', 'kapiti', 'macquarie', 'macassar', 'new guinea',\n",
       "        'trinidad', 'new orleans', 'benares', 'khartoum', 'newport',\n",
       "        'la jolla'], dtype=object),\n",
       " array(['oslo', 'siberia', 'mont blanc', 'yukon', 'gobi', 'salzburg',\n",
       "        'deauville', 'vienna', 'fiji', 'punjab', 'patagonia', 'vallauris',\n",
       "        'santa fe', 'sahel', 'stromboli', 'vanuatu', 'barcelona',\n",
       "        'valencia', 'aruba', 'syracuse', 'moorea', 'cadiz', 'lucia',\n",
       "        'biscay', 'seville', 'lucerne', 'marino', 'aspen', 'riviera',\n",
       "        'bogota', 'ibiza', 'giza', 'martinique', 'cairo', 'cebu', 'fes',\n",
       "        'capri', 'malta', 'maricao', 'bali', 'isla', 'marisol', 'tulum',\n",
       "        'balos', 'formosa', 'paloma', 'porto ferro', 'kamari',\n",
       "        'vallaurius', 'finland', 'alaska', 'terre neuve', 'st moritz',\n",
       "        'groenland', 'malaga', 'formentera', 'mallorca', 'tavarua',\n",
       "        'corsica', 'bowen', 'salina', 'chios', 'catalina', 'milos',\n",
       "        'bedarra', 'maraca', 'bonaire', 'montserrat', 'tahoe', 'kalahari',\n",
       "        'mesa', 'mojave', 'arizona', 'venice', 'manhattan beach'],\n",
       "       dtype=object))"
      ]
     },
     "execution_count": 105,
     "metadata": {},
     "output_type": "execute_result"
    }
   ],
   "source": [
    "h = location[location.lightness < 0.634]\n",
    "location1 = h.name.unique()\n",
    "i = location[location.lightness > 0.634]\n",
    "location2 = i.name.unique()\n",
    "location1, location2"
   ]
  },
  {
   "cell_type": "markdown",
   "id": "74f7e6bf-1e35-4946-bdff-9318ebeb865e",
   "metadata": {},
   "source": [
    "Locations are most frequently used to label shades with lightness value of around 0.7."
   ]
  },
  {
   "cell_type": "code",
   "execution_count": 155,
   "id": "0b29906e-09e9-4a15-8251-62460c1bfaed",
   "metadata": {
    "tags": []
   },
   "outputs": [
    {
     "data": {
      "text/plain": [
       "Text(0.5, 0, 'Lightness')"
      ]
     },
     "execution_count": 155,
     "metadata": {},
     "output_type": "execute_result"
    },
    {
     "data": {
      "image/png": "[encoded data removed]",
      "text/plain": [
       "<Figure size 432x288 with 1 Axes>"
      ]
     },
     "metadata": {
      "needs_background": "light"
     },
     "output_type": "display_data"
    }
   ],
   "source": [
    "metal = categoriesdf.loc[categoriesdf['categories'].str.contains('metal')]\n",
    "metal.hist(column='lightness')\n",
    "plt.axvline(x=0.634, color = 'r')\n",
    "plt.title('Metal')\n",
    "plt.ylabel('Frequency')\n",
    "plt.xlabel('Lightness')"
   ]
  },
  {
   "cell_type": "markdown",
   "id": "f75ddd26-c689-4ed7-b945-58eac65a3ca9",
   "metadata": {},
   "source": [
    "Metals were most frequently used to label shades with lightness value of around 0.6. "
   ]
  },
  {
   "cell_type": "code",
   "execution_count": 108,
   "id": "028f7add-2f02-469b-8019-9df0c6a61c29",
   "metadata": {
    "tags": []
   },
   "outputs": [
    {
     "data": {
      "text/plain": [
       "(array(['bronze', 'deep bronze', 'beautiful bronze', 'copper',\n",
       "        'bronze beige', 'golden bronze', 'honey bronze', 'bronze venus',\n",
       "        'warm bronze', 'dore', 'tan café latte', 'tan bronze',\n",
       "        'cool copper'], dtype=object),\n",
       " array(['honey bronze', 'bronze', 'bronzed beige', 'bronze beige',\n",
       "        'dore medium', 'dore', 'bronzed', 'gold'], dtype=object))"
      ]
     },
     "execution_count": 108,
     "metadata": {},
     "output_type": "execute_result"
    }
   ],
   "source": [
    "j = metal[metal.lightness < 0.634]\n",
    "metal1 = j.name.unique()\n",
    "k = metal[metal.lightness > 0.634]\n",
    "metal2 = k.name.unique()\n",
    "metal1, metal2"
   ]
  },
  {
   "cell_type": "code",
   "execution_count": 109,
   "id": "1a223271-1eab-4774-8406-0d8490e0f6f2",
   "metadata": {
    "tags": []
   },
   "outputs": [
    {
     "data": {
      "text/plain": [
       "(brand         51\n",
       " product       51\n",
       " url           51\n",
       " imgSrc        51\n",
       " name          51\n",
       " categories    51\n",
       " specific      40\n",
       " hex           51\n",
       " lightness     51\n",
       " dtype: int64,\n",
       " brand         12\n",
       " product       12\n",
       " url           12\n",
       " imgSrc        12\n",
       " name          12\n",
       " categories    12\n",
       " specific       7\n",
       " hex           12\n",
       " lightness     12\n",
       " dtype: int64)"
      ]
     },
     "execution_count": 109,
     "metadata": {},
     "output_type": "execute_result"
    }
   ],
   "source": [
    "j.count(), k.count()"
   ]
  },
  {
   "cell_type": "code",
   "execution_count": 156,
   "id": "57458d0c-16fd-4828-9fd6-36329873e1ee",
   "metadata": {
    "tags": []
   },
   "outputs": [
    {
     "data": {
      "text/plain": [
       "Text(0.5, 0, 'Lightness')"
      ]
     },
     "execution_count": 156,
     "metadata": {},
     "output_type": "execute_result"
    },
    {
     "data": {
      "image/png": "[encoded data removed]",
      "text/plain": [
       "<Figure size 432x288 with 1 Axes>"
      ]
     },
     "metadata": {
      "needs_background": "light"
     },
     "output_type": "display_data"
    }
   ],
   "source": [
    "misc = categoriesdf.loc[categoriesdf['categories'].str.contains('misc')]\n",
    "misc.hist(column='lightness')\n",
    "plt.axvline(x=0.634, color = 'r')\n",
    "plt.title('Misc')\n",
    "plt.ylabel('Frequency')\n",
    "plt.xlabel('Lightness')"
   ]
  },
  {
   "cell_type": "markdown",
   "id": "5d7cf6ef-caff-443b-bfd5-2665b598b98c",
   "metadata": {
    "jupyter": {
     "outputs_hidden": true
    },
    "tags": []
   },
   "source": [
    "Misc terms were most frequently used to label shades with lightness value of 0.8, and the shape of the histogram is left-skewed. This shows that most shades that are named using misc terms fall under the category of lighter shade. The dataset defines the 'misc' category as 'labels that didn’t seem to fit the other categories'. This seems to indicate that there is a lot more variability and creativity when it comes to naming lighter shades compared to darker shades. "
   ]
  },
  {
   "cell_type": "code",
   "execution_count": 158,
   "id": "df96e42d-5c0c-4ba1-8f03-81614d079df3",
   "metadata": {
    "tags": []
   },
   "outputs": [
    {
     "data": {
      "text/plain": [
       "Text(0.5, 0, 'Lightness')"
      ]
     },
     "execution_count": 158,
     "metadata": {},
     "output_type": "execute_result"
    },
    {
     "data": {
      "image/png": "[encoded data removed]",
      "text/plain": [
       "<Figure size 432x288 with 1 Axes>"
      ]
     },
     "metadata": {
      "needs_background": "light"
     },
     "output_type": "display_data"
    }
   ],
   "source": [
    "name = categoriesdf.loc[categoriesdf['categories'].str.contains('name')]\n",
    "name.hist(column='lightness')\n",
    "plt.axvline(x=0.634, color = 'r')\n",
    "plt.title('Name')\n",
    "plt.ylabel('Frequency')\n",
    "plt.xlabel('Lightness')"
   ]
  },
  {
   "cell_type": "markdown",
   "id": "51f2adc6-f4c9-463c-b826-4699f27e4e33",
   "metadata": {},
   "source": [
    "Names were most frequently used to name shades with lightness values between 0.7 and 0.8"
   ]
  },
  {
   "cell_type": "code",
   "execution_count": 159,
   "id": "c7dc7b1f-c026-47ff-9cc4-29a147264d71",
   "metadata": {
    "tags": []
   },
   "outputs": [
    {
     "data": {
      "text/plain": [
       "Text(0.5, 0, 'Lightness')"
      ]
     },
     "execution_count": 159,
     "metadata": {},
     "output_type": "execute_result"
    },
    {
     "data": {
      "image/png": "[encoded data removed]",
      "text/plain": [
       "<Figure size 432x288 with 1 Axes>"
      ]
     },
     "metadata": {
      "needs_background": "light"
     },
     "output_type": "display_data"
    }
   ],
   "source": [
    "plant = categoriesdf.loc[categoriesdf['categories'].str.contains('plant')]\n",
    "plant.hist(column='lightness')\n",
    "plt.axvline(x=0.634, color = 'r')\n",
    "plt.title('Plant')\n",
    "plt.ylabel('Frequency')\n",
    "plt.xlabel('Lightness')"
   ]
  },
  {
   "cell_type": "markdown",
   "id": "9c60f79c-fca1-44df-a8ff-b40750088e3d",
   "metadata": {},
   "source": [
    "Plants were most frequently used to name shades with lightness value of about 0.8."
   ]
  },
  {
   "cell_type": "code",
   "execution_count": 160,
   "id": "f97ba0df-4d07-428e-bded-f05e778905ca",
   "metadata": {
    "tags": []
   },
   "outputs": [
    {
     "data": {
      "text/plain": [
       "Text(0.5, 0, 'Lightness')"
      ]
     },
     "execution_count": 160,
     "metadata": {},
     "output_type": "execute_result"
    },
    {
     "data": {
      "image/png": "[encoded data removed]",
      "text/plain": [
       "<Figure size 432x288 with 1 Axes>"
      ]
     },
     "metadata": {
      "needs_background": "light"
     },
     "output_type": "display_data"
    }
   ],
   "source": [
    "rock = categoriesdf.loc[categoriesdf['categories'].str.contains('rock')]\n",
    "rock.hist(column='lightness')\n",
    "plt.axvline(x=0.634, color = 'r')\n",
    "plt.title('Rock')\n",
    "plt.ylabel('Frequency')\n",
    "plt.xlabel('Lightness')"
   ]
  },
  {
   "cell_type": "markdown",
   "id": "096bf9bb-ff32-42e9-9a4d-8599ceefdaaa",
   "metadata": {},
   "source": [
    "Rocks were most frequently used to name shades with lightness values that fall between 0.6 and 0.7."
   ]
  },
  {
   "cell_type": "code",
   "execution_count": 161,
   "id": "74541ee6-d834-4a86-92e9-3d770856e91f",
   "metadata": {
    "tags": []
   },
   "outputs": [
    {
     "data": {
      "text/plain": [
       "Text(0.5, 0, 'Lightness')"
      ]
     },
     "execution_count": 161,
     "metadata": {},
     "output_type": "execute_result"
    },
    {
     "data": {
      "image/png": "[encoded data removed]",
      "text/plain": [
       "<Figure size 432x288 with 1 Axes>"
      ]
     },
     "metadata": {
      "needs_background": "light"
     },
     "output_type": "display_data"
    }
   ],
   "source": [
    "skin = categoriesdf.loc[categoriesdf['categories'].str.contains('skin')]\n",
    "skin.hist(column='lightness')\n",
    "plt.axvline(x=0.634, color = 'r')\n",
    "plt.title('Skin')\n",
    "plt.ylabel('Frequency')\n",
    "plt.xlabel('Lightness')"
   ]
  },
  {
   "cell_type": "markdown",
   "id": "df807999-8700-4313-bbab-16aec50b0391",
   "metadata": {},
   "source": [
    "Skin terms were most frequently used to name shades with lightness value of about 0.7."
   ]
  },
  {
   "cell_type": "code",
   "execution_count": 162,
   "id": "c610586e-d529-4c94-b6f8-43eb6f6ba8ed",
   "metadata": {
    "tags": []
   },
   "outputs": [
    {
     "data": {
      "text/plain": [
       "Text(0.5, 0, 'Lightness')"
      ]
     },
     "execution_count": 162,
     "metadata": {},
     "output_type": "execute_result"
    },
    {
     "data": {
      "image/png": "[encoded data removed]",
      "text/plain": [
       "<Figure size 432x288 with 1 Axes>"
      ]
     },
     "metadata": {
      "needs_background": "light"
     },
     "output_type": "display_data"
    }
   ],
   "source": [
    "textile = categoriesdf.loc[categoriesdf['categories'].str.contains('textile')]\n",
    "textile.hist(column='lightness')\n",
    "plt.axvline(x=0.634, color = 'r')\n",
    "plt.title('Textile')\n",
    "plt.ylabel('Frequency')\n",
    "plt.xlabel('Lightness')"
   ]
  },
  {
   "cell_type": "markdown",
   "id": "29e867e5-b45a-4a73-832e-01df33ff95fd",
   "metadata": {},
   "source": [
    "Textiles were most frequently used to name shades with lightness value of about 0.8."
   ]
  },
  {
   "cell_type": "code",
   "execution_count": 163,
   "id": "70a77f7e-51b5-41b5-acdc-08e16839a753",
   "metadata": {
    "tags": []
   },
   "outputs": [
    {
     "data": {
      "text/plain": [
       "Text(0.5, 0, 'Lightness')"
      ]
     },
     "execution_count": 163,
     "metadata": {},
     "output_type": "execute_result"
    },
    {
     "data": {
      "image/png": "[encoded data removed]",
      "text/plain": [
       "<Figure size 432x288 with 1 Axes>"
      ]
     },
     "metadata": {
      "needs_background": "light"
     },
     "output_type": "display_data"
    }
   ],
   "source": [
    "wood = categoriesdf.loc[categoriesdf['categories'].str.contains('wood')]\n",
    "wood.hist(column='lightness')\n",
    "plt.axvline(x=0.634, color = 'r')\n",
    "plt.title('Wood')\n",
    "plt.ylabel('Frequency')\n",
    "plt.xlabel('Lightness')"
   ]
  },
  {
   "cell_type": "markdown",
   "id": "5a64f502-ac25-4b54-b80c-261291af364d",
   "metadata": {},
   "source": [
    "Woods were most frequently used to name shades with lightness values between 0.4 and 0.5."
   ]
  },
  {
   "cell_type": "code",
   "execution_count": 118,
   "id": "6b01c3f8-614a-4886-989d-8b634a32a85d",
   "metadata": {
    "tags": []
   },
   "outputs": [
    {
     "data": {
      "text/plain": [
       "(array(['bamboo', 'maple', 'walnut', 'mahogany', 'black walnut',\n",
       "        'ebony brown', 'oak', 'cedar', 'rich mahogany', 'deep ebony',\n",
       "        'ebony', 'rich ebony', 'sandalwood', 'deep maple', 'warm mahogany',\n",
       "        'mahogany golden', 'warm walnut', 'deep walnut', 'warm bamboo',\n",
       "        'cool ebony', 'deep dark ebony', 'golden walnut', 'medium walnut',\n",
       "        'cool walnut', 'neutral walnut', 'teak', 'mahhogany', 'rosewood',\n",
       "        'silk maple'], dtype=object),\n",
       " array(['bamboo', 'maple', 'walnut', 'mahogany', 'black walnut',\n",
       "        'ebony brown', 'oak', 'cedar', 'rich mahogany', 'deep ebony',\n",
       "        'ebony', 'rich ebony', 'sandalwood', 'deep maple', 'warm mahogany',\n",
       "        'mahogany golden', 'warm walnut', 'deep walnut', 'warm bamboo',\n",
       "        'cool ebony', 'deep dark ebony', 'golden walnut', 'medium walnut',\n",
       "        'cool walnut', 'neutral walnut', 'teak', 'mahhogany', 'rosewood',\n",
       "        'silk maple'], dtype=object))"
      ]
     },
     "execution_count": 118,
     "metadata": {},
     "output_type": "execute_result"
    }
   ],
   "source": [
    "m = wood[wood.lightness < 0.634]\n",
    "wood1 = m.name.unique()\n",
    "n = wood[wood.lightness > 0.634]\n",
    "wood2 = m.name.unique()\n",
    "wood1, wood2"
   ]
  },
  {
   "cell_type": "code",
   "execution_count": 119,
   "id": "adc02117-4288-4580-a2aa-2d76d4733314",
   "metadata": {
    "tags": []
   },
   "outputs": [
    {
     "data": {
      "text/plain": [
       "(brand         136\n",
       " product       136\n",
       " url           136\n",
       " imgSrc        136\n",
       " name          136\n",
       " categories    136\n",
       " specific       73\n",
       " hex           136\n",
       " lightness     136\n",
       " dtype: int64,\n",
       " brand         43\n",
       " product       43\n",
       " url           43\n",
       " imgSrc        43\n",
       " name          43\n",
       " categories    43\n",
       " specific      36\n",
       " hex           43\n",
       " lightness     43\n",
       " dtype: int64)"
      ]
     },
     "execution_count": 119,
     "metadata": {},
     "output_type": "execute_result"
    }
   ],
   "source": [
    "m.count(), n.count()"
   ]
  },
  {
   "cell_type": "markdown",
   "id": "b5acb561-2419-49a5-b4e0-5427bf61a42e",
   "metadata": {},
   "source": [
    "### Analysis"
   ]
  },
  {
   "cell_type": "code",
   "execution_count": 56,
   "id": "bc875e13-5ae2-4efe-8a95-6f37a98df937",
   "metadata": {},
   "outputs": [
    {
     "data": {
      "text/plain": [
       "categories\n",
       "descriptor                       1322\n",
       "food                              682\n",
       "descriptor, color                 250\n",
       "location                          210\n",
       "drink                             206\n",
       "                                 ... \n",
       "misc, skin, color, compliment       1\n",
       "plant, color, food                  1\n",
       "plant, color, gem                   1\n",
       "sand                                1\n",
       "wood, descriptor                    1\n",
       "Length: 128, dtype: int64"
      ]
     },
     "execution_count": 56,
     "metadata": {},
     "output_type": "execute_result"
    }
   ],
   "source": [
    "categories = categoriesdf.groupby('categories').size()\n",
    "categories.sort_values(ascending=False) \n",
    "#descriptor, food, color, location, drink one of the most common words in foundation shade names"
   ]
  },
  {
   "cell_type": "code",
   "execution_count": 192,
   "id": "c96eb473-adea-4eef-b1d6-c6d485fbaaf8",
   "metadata": {
    "tags": []
   },
   "outputs": [],
   "source": [
    "#descriptorcategories = categoriesdf.loc[categoriesdf['categories'].str.contains('descriptor')]"
   ]
  },
  {
   "cell_type": "code",
   "execution_count": 193,
   "id": "e77f702f-5896-48ea-af31-055713b80671",
   "metadata": {
    "tags": []
   },
   "outputs": [],
   "source": [
    "lowerhalfshade = categoriesdf[categoriesdf.lightness <= 0.634]\n",
    "upperhalfshade = categoriesdf[categoriesdf.lightness > 0.634]"
   ]
  },
  {
   "cell_type": "code",
   "execution_count": 194,
   "id": "e81e60f8-2bec-4178-9657-0bbf4ee98fdb",
   "metadata": {
    "tags": []
   },
   "outputs": [
    {
     "data": {
      "text/plain": [
       "<AxesSubplot:ylabel='categories'>"
      ]
     },
     "execution_count": 194,
     "metadata": {},
     "output_type": "execute_result"
    },
    {
     "data": {
      "image/png": "[encoded data removed]",
      "text/plain": [
       "<Figure size 432x288 with 1 Axes>"
      ]
     },
     "metadata": {
      "needs_background": "light"
     },
     "output_type": "display_data"
    }
   ],
   "source": [
    "a = lowerhalfshade.groupby('categories').size()\n",
    "a.sort_values(ascending=False)[:15].plot(kind='barh')"
   ]
  },
  {
   "cell_type": "code",
   "execution_count": 195,
   "id": "15c51013-0144-4696-b6ef-2df28a1a6b2f",
   "metadata": {
    "tags": []
   },
   "outputs": [
    {
     "data": {
      "text/plain": [
       "<AxesSubplot:ylabel='categories'>"
      ]
     },
     "execution_count": 195,
     "metadata": {},
     "output_type": "execute_result"
    },
    {
     "data": {
      "image/png": "[encoded data removed]",
      "text/plain": [
       "<Figure size 432x288 with 1 Axes>"
      ]
     },
     "metadata": {
      "needs_background": "light"
     },
     "output_type": "display_data"
    }
   ],
   "source": [
    "b = upperhalfshade.groupby('categories').size()\n",
    "b.sort_values(ascending=False)[:15].plot(kind='barh')"
   ]
  },
  {
   "cell_type": "code",
   "execution_count": 196,
   "id": "8fbb9363-ee72-4d86-95a7-c02b1e553c34",
   "metadata": {
    "tags": []
   },
   "outputs": [],
   "source": [
    "#uppercomplimentfreq = upperhalfshade[upperhalfshade['categories'].str.contains('compliment')]"
   ]
  },
  {
   "cell_type": "code",
   "execution_count": 197,
   "id": "c47e59fa-0116-49c3-b424-e962436cc7dd",
   "metadata": {
    "tags": []
   },
   "outputs": [],
   "source": [
    "#lowercomplimentfreq = lowerhalfshade[lowerhalfshade['categories'].str.contains('compliment')]"
   ]
  },
  {
   "cell_type": "code",
   "execution_count": 199,
   "id": "35fba168-bb29-4598-af97-c1d8360f16ac",
   "metadata": {},
   "outputs": [],
   "source": [
    "#bottomfive = shadesdf.groupby('brand')['brand'].count().sort_values(ascending=False)[-5:]"
   ]
  },
  {
   "cell_type": "code",
   "execution_count": 200,
   "id": "8fd2867d-4479-4b15-a07c-7e528b2a3770",
   "metadata": {},
   "outputs": [],
   "source": [
    "#topfive = shadesdf.groupby('brand')['brand'].count().sort_values(ascending=False)[:5]"
   ]
  },
  {
   "cell_type": "code",
   "execution_count": 201,
   "id": "3db6ba72-d3bd-47db-a5ee-574163251fa9",
   "metadata": {
    "tags": []
   },
   "outputs": [],
   "source": [
    "#shadesdf.loc[shadesdf['brand']==brand[0]].plot(kind='box',y='lightness', title='COOLA')"
   ]
  },
  {
   "cell_type": "markdown",
   "id": "6281ee1c-cd59-4609-baed-bcb1a2ad90a7",
   "metadata": {},
   "source": [
    "## DISCUSSION"
   ]
  },
  {
   "cell_type": "markdown",
   "id": "531f32a7-c9a6-4b28-b346-a9acf10a058e",
   "metadata": {},
   "source": [
    "talk about how initially i was using .5 as a standard but i changed to .634, also talk about the process of deciding on using the average instead of median (median not good at detecting anomalies)"
   ]
  },
  {
   "cell_type": "markdown",
   "id": "eedf3be4-45a1-4870-b670-6336bcbcde04",
   "metadata": {},
   "source": [
    "### Range and Variety"
   ]
  },
  {
   "cell_type": "markdown",
   "id": "dc5c3286-c33c-4df6-9cf9-94b854f5ea0f",
   "metadata": {},
   "source": [
    "### Numbering System"
   ]
  },
  {
   "cell_type": "markdown",
   "id": "7f4526a2-644c-4167-a132-8eaaef749306",
   "metadata": {},
   "source": [
    "### Variability of Labels"
   ]
  },
  {
   "cell_type": "markdown",
   "id": "1c73242d-8cfb-4b15-90c1-068f35c36cc2",
   "metadata": {},
   "source": []
  },
  {
   "cell_type": "markdown",
   "id": "14766580-182c-456f-8cc9-aa1826a3753e",
   "metadata": {},
   "source": [
    "## What I'm planning on doing (03.11.22)"
   ]
  },
  {
   "cell_type": "markdown",
   "id": "c7cbd4b7-07e9-4479-9e09-244ecc3cdd66",
   "metadata": {},
   "source": [
    "- adding more information in the intro & method section about background info + how the Pudding got their data\n",
    "- visualization for the range of shades for different brands\n",
    "- adding analyses for visualizations\n",
    "- write the discussion section about the project"
   ]
  },
  {
   "cell_type": "code",
   "execution_count": null,
   "id": "e8340399-3348-4a03-88ce-c668e32cbcfe",
   "metadata": {},
   "outputs": [],
   "source": []
  }
 ],
 "metadata": {
  "kernelspec": {
   "display_name": "Python 3 (ipykernel)",
   "language": "python",
   "name": "python3"
  },
  "language_info": {
   "codemirror_mode": {
    "name": "ipython",
    "version": 3
   },
   "file_extension": ".py",
   "mimetype": "text/x-python",
   "name": "python",
   "nbconvert_exporter": "python",
   "pygments_lexer": "ipython3",
   "version": "3.9.6"
  }
 },
 "nbformat": 4,
 "nbformat_minor": 5
}
